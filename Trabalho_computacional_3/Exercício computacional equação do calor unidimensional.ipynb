{
 "cells": [
  {
   "cell_type": "markdown",
   "id": "ae8fd56d",
   "metadata": {},
   "source": [
    "## Solução Numérica da Equação do Calor Unidimensional\n",
    "\n",
    "### Utilizando o método de Crank-Nicolson para um problema de condução de calor unidimensional em regime transiente\n",
    "\n",
    "\n",
    "$\\begin{equation}\n",
    "\\large\n",
    "T^{k+1}_{i} = \\Delta t \\cdot \\alpha \\left(\\frac{ \\left ( T^{k+1}_{i+1} - 2T^{k+1}_{i} + T^{k+1}_{i-1} \\right) + \\left ( T^{k}_{i+1} - 2T^{k}_{i} + T^{k}_{i-1}\\right)}{2 \\cdot \\Delta x^2} \\right) + T^{k}_{i}\n",
    "\\end{equation}$\n",
    "\n",
    "$\\begin{equation}\n",
    "\\therefore\n",
    "\\end{equation}$\n",
    "\n",
    "$\\begin{equation}\n",
    "\\large\n",
    "-r \\cdot T^{k+1}_{i+1} + (1 + 2r)\\cdot  T^{k+1}_{i} - r \\cdot T^{k+1}_{i-1} = r \\cdot T^{k}_{i+1} + (1 - 2r)\\cdot  T^{k}_{i} + r \\cdot T^{k}_{i-1}\n",
    "\\end{equation}$\n",
    "\n",
    "onde\n",
    "\n",
    "$\\begin{equation}\n",
    "\\large\n",
    "r = \\frac{\\alpha \\Delta t}{2 \\Delta x^2}\n",
    "\\end{equation}$\n",
    "\n",
    "### Determine a distribuição de temperaturas em uma barra de metal $\\alpha = $ 1.0 cm^2/s de comprimento $L = \\pi$ cm mantida a 0°C em seus extremos a partir de uma distribuição inicial triangular de temperaturas:\n",
    "\n",
    "\n",
    "\\begin{equation*}\n",
    "T(x,0) = f(x) = \\left\\{\n",
    "        \\begin{array}{ll}\n",
    "            x & \\quad  0 <  x < \\frac{L}{2} \\\\\n",
    "            L-x & \\quad \\frac{L}{2} < x < L\n",
    "        \\end{array}\n",
    "    \\right.\n",
    "\\end{equation*}\n",
    "\n"
   ]
  },
  {
   "cell_type": "code",
   "execution_count": 1,
   "id": "9e3fc321",
   "metadata": {},
   "outputs": [],
   "source": [
    "# Carregamento de pacotes\n",
    "import numpy as np\n",
    "import matplotlib.pyplot as plt\n",
    "import matplotlib.animation as animation\n",
    "from matplotlib.animation import FuncAnimation"
   ]
  },
  {
   "cell_type": "code",
   "execution_count": 2,
   "id": "0fd1f297",
   "metadata": {},
   "outputs": [],
   "source": [
    "# Parâmetros do problema\n",
    "L = np.pi #cm\n",
    "tf = 100. #s , tempo da simulação\n",
    "alfa = 1.0 #cm^2/s\n"
   ]
  },
  {
   "cell_type": "code",
   "execution_count": 3,
   "id": "d83c5e37",
   "metadata": {},
   "outputs": [],
   "source": [
    "# Parâmetros do algoritmo\n",
    "np_x = 1001 # Numero de pontos do grid na direção x\n",
    "np_t = 2001 # Numero de pontos do grid na dimensão de tempo t\n",
    "#Criação de estruturas (Arrays) para solução\n",
    "p_x, delta_x = np.linspace( 0, L , np_x, retstep = True)\n",
    "p_t, delta_t = np.linspace( 0, tf , np_t, retstep = True)\n",
    "r = (alfa*delta_t) / (2*delta_x**2)"
   ]
  },
  {
   "cell_type": "code",
   "execution_count": 4,
   "id": "fed7cb13",
   "metadata": {},
   "outputs": [],
   "source": [
    "# Função para resolver as equações\n",
    "def calcula(T, method = 'Inversion'):\n",
    "    from linthom import linthom\n",
    "    if method == \"Inversion\":\n",
    "    #Resolve o sistema de equacoes por inversao matricial direta\n",
    "        A = -1.*np.diag(r*np.ones(len(p_x)-3),-1) + 1.*np.diag((1+2*r)*np.ones(len(p_x)-2),0)  -1.*np.diag(r*np.ones(len(p_x)-3),1) #Criacao da matriz A somando as diagonais de cada matriz \n",
    "        for k in range(0,np_t-1):\n",
    "            b = np.zeros((np_x-2,))\n",
    "            for j in range(0,np_x-2):\n",
    "                b[j] = r*T[k,j+1] + (1-2*r)*T[k,j] + r*T[k,j-1]\n",
    "                \n",
    "            Tk = np.linalg.solve(A,b) #Resolve a divisao de b por A\n",
    "            T[k+1,1:-1] = Tk\n",
    "    elif method == \"Thomas\":\n",
    "    #Resolução do sistema de equacoes pelo método de Thomas #Implementar mais duas linhas para fazer para 10 pontos no trabalho   \n",
    "        linthom()  \n",
    "        print(\"Por enquanto nada\")\n",
    "    return T"
   ]
  },
  {
   "cell_type": "code",
   "execution_count": 5,
   "id": "40a24351",
   "metadata": {},
   "outputs": [
    {
     "data": {
      "text/plain": [
       "[<matplotlib.lines.Line2D at 0x7f533b6cdc00>]"
      ]
     },
     "execution_count": 5,
     "metadata": {},
     "output_type": "execute_result"
    },
    {
     "data": {
      "image/png": "[encoded data removed]",
      "text/plain": [
       "<Figure size 640x480 with 1 Axes>"
      ]
     },
     "metadata": {},
     "output_type": "display_data"
    }
   ],
   "source": [
    "# Inicialização da matriz de temperaturas: T(k, i)\n",
    "T = np.zeros((np_t,len(p_x)))\n",
    "#Criando a linha com a temperatura inicial \n",
    "Ti = 100. #°C\n",
    "Ti = [p_x[i] if p_x[i] < L/2 else L-p_x[i] for i in range(0,len(p_x))] #criou o T(x,0)\n",
    "\n",
    "#Condicoes de contorno (temperatura fixada):\n",
    "T_x0 = 0. #°C\n",
    "T_xL = 0. #°C\n",
    "\n",
    "#Setando as condições iniciais na matriz de soluções:\n",
    "T[0,:] = Ti\n",
    "\n",
    "#Setando as condições de contorno:\n",
    "T[1:,0] = T_x0\n",
    "T[1:,-1] = T_xL\n",
    "\n",
    "plt.plot(p_x,Ti)\n"
   ]
  },
  {
   "cell_type": "code",
   "execution_count": 6,
   "id": "256b3639",
   "metadata": {},
   "outputs": [],
   "source": [
    "# Função para plotar o mapa de calor\n",
    "def plotheatprofile(T_k, k):\n",
    "  # Clear the current plot figure\n",
    "  plt.clf()\n",
    "  plt.title(f\"Temperatura em t = {p_t[k]:.3f} s\")\n",
    "  plt.xlabel(\"x [cm]\")\n",
    "  plt.ylabel(\"T [°C]\")\n",
    "  plt.axis([0, L, 0, L/2])\n",
    "  \n",
    "  # Plot de T_k (T no passo de tempo k)\n",
    "  plt.plot(p_x, T_k)\n",
    "    \n",
    "  return plt"
   ]
  },
  {
   "cell_type": "code",
   "execution_count": 7,
   "id": "43017f7e",
   "metadata": {},
   "outputs": [
    {
     "ename": "KeyboardInterrupt",
     "evalue": "",
     "output_type": "error",
     "traceback": [
      "\u001b[0;31m---------------------------------------------------------------------------\u001b[0m",
      "\u001b[0;31mKeyboardInterrupt\u001b[0m                         Traceback (most recent call last)",
      "Cell \u001b[0;32mIn[7], line 2\u001b[0m\n\u001b[1;32m      1\u001b[0m \u001b[38;5;66;03m# Do the calculation here\u001b[39;00m\n\u001b[0;32m----> 2\u001b[0m T \u001b[38;5;241m=\u001b[39m \u001b[43mcalcula\u001b[49m\u001b[43m(\u001b[49m\u001b[43mT\u001b[49m\u001b[43m)\u001b[49m\n\u001b[1;32m      4\u001b[0m \u001b[38;5;66;03m# Animação \\0/\u001b[39;00m\n\u001b[1;32m      5\u001b[0m \u001b[38;5;28;01mdef\u001b[39;00m \u001b[38;5;21manimate\u001b[39m(k):\n",
      "Cell \u001b[0;32mIn[4], line 12\u001b[0m, in \u001b[0;36mcalcula\u001b[0;34m(T, method)\u001b[0m\n\u001b[1;32m      9\u001b[0m         \u001b[38;5;28;01mfor\u001b[39;00m j \u001b[38;5;129;01min\u001b[39;00m \u001b[38;5;28mrange\u001b[39m(\u001b[38;5;241m0\u001b[39m,np_x\u001b[38;5;241m-\u001b[39m\u001b[38;5;241m2\u001b[39m):\n\u001b[1;32m     10\u001b[0m             b[j] \u001b[38;5;241m=\u001b[39m r\u001b[38;5;241m*\u001b[39mT[k,j\u001b[38;5;241m+\u001b[39m\u001b[38;5;241m1\u001b[39m] \u001b[38;5;241m+\u001b[39m (\u001b[38;5;241m1\u001b[39m\u001b[38;5;241m-\u001b[39m\u001b[38;5;241m2\u001b[39m\u001b[38;5;241m*\u001b[39mr)\u001b[38;5;241m*\u001b[39mT[k,j] \u001b[38;5;241m+\u001b[39m r\u001b[38;5;241m*\u001b[39mT[k,j\u001b[38;5;241m-\u001b[39m\u001b[38;5;241m1\u001b[39m]\n\u001b[0;32m---> 12\u001b[0m         Tk \u001b[38;5;241m=\u001b[39m \u001b[43mnp\u001b[49m\u001b[38;5;241;43m.\u001b[39;49m\u001b[43mlinalg\u001b[49m\u001b[38;5;241;43m.\u001b[39;49m\u001b[43msolve\u001b[49m\u001b[43m(\u001b[49m\u001b[43mA\u001b[49m\u001b[43m,\u001b[49m\u001b[43mb\u001b[49m\u001b[43m)\u001b[49m \u001b[38;5;66;03m#Resolve a divisao de b por A\u001b[39;00m\n\u001b[1;32m     13\u001b[0m         T[k\u001b[38;5;241m+\u001b[39m\u001b[38;5;241m1\u001b[39m,\u001b[38;5;241m1\u001b[39m:\u001b[38;5;241m-\u001b[39m\u001b[38;5;241m1\u001b[39m] \u001b[38;5;241m=\u001b[39m Tk\n\u001b[1;32m     14\u001b[0m \u001b[38;5;28;01melif\u001b[39;00m method \u001b[38;5;241m==\u001b[39m \u001b[38;5;124m\"\u001b[39m\u001b[38;5;124mThomas\u001b[39m\u001b[38;5;124m\"\u001b[39m:\n\u001b[1;32m     15\u001b[0m \u001b[38;5;66;03m#Resolução do sistema de equacoes pelo método de Thomas #Implementar mais duas linhas para fazer para 10 pontos no trabalho   \u001b[39;00m\n",
      "File \u001b[0;32m~/.local/lib/python3.10/site-packages/numpy/linalg/linalg.py:409\u001b[0m, in \u001b[0;36msolve\u001b[0;34m(a, b)\u001b[0m\n\u001b[1;32m    407\u001b[0m signature \u001b[38;5;241m=\u001b[39m \u001b[38;5;124m'\u001b[39m\u001b[38;5;124mDD->D\u001b[39m\u001b[38;5;124m'\u001b[39m \u001b[38;5;28;01mif\u001b[39;00m isComplexType(t) \u001b[38;5;28;01melse\u001b[39;00m \u001b[38;5;124m'\u001b[39m\u001b[38;5;124mdd->d\u001b[39m\u001b[38;5;124m'\u001b[39m\n\u001b[1;32m    408\u001b[0m extobj \u001b[38;5;241m=\u001b[39m get_linalg_error_extobj(_raise_linalgerror_singular)\n\u001b[0;32m--> 409\u001b[0m r \u001b[38;5;241m=\u001b[39m \u001b[43mgufunc\u001b[49m\u001b[43m(\u001b[49m\u001b[43ma\u001b[49m\u001b[43m,\u001b[49m\u001b[43m \u001b[49m\u001b[43mb\u001b[49m\u001b[43m,\u001b[49m\u001b[43m \u001b[49m\u001b[43msignature\u001b[49m\u001b[38;5;241;43m=\u001b[39;49m\u001b[43msignature\u001b[49m\u001b[43m,\u001b[49m\u001b[43m \u001b[49m\u001b[43mextobj\u001b[49m\u001b[38;5;241;43m=\u001b[39;49m\u001b[43mextobj\u001b[49m\u001b[43m)\u001b[49m\n\u001b[1;32m    411\u001b[0m \u001b[38;5;28;01mreturn\u001b[39;00m wrap(r\u001b[38;5;241m.\u001b[39mastype(result_t, copy\u001b[38;5;241m=\u001b[39m\u001b[38;5;28;01mFalse\u001b[39;00m))\n",
      "\u001b[0;31mKeyboardInterrupt\u001b[0m: "
     ]
    }
   ],
   "source": [
    "# Do the calculation here\n",
    "T = calcula(T)\n",
    "\n",
    "# Animação \\0/\n",
    "def animate(k):\n",
    "  plotheatprofile(T[k,:], k)\n",
    "\n",
    "anim = animation.FuncAnimation(plt.figure(), animate, interval=1, frames=int(tf), repeat=True)\n",
    "anim.save(\"figura_teste.gif\")"
   ]
  },
  {
   "cell_type": "markdown",
   "id": "ec43b0b0",
   "metadata": {},
   "source": []
  },
  {
   "cell_type": "code",
   "execution_count": null,
   "id": "1c7db096",
   "metadata": {},
   "outputs": [
    {
     "ename": "SyntaxError",
     "evalue": "invalid syntax (2779274415.py, line 3)",
     "output_type": "error",
     "traceback": [
      "\u001b[0;36m  Cell \u001b[0;32mIn[23], line 3\u001b[0;36m\u001b[0m\n\u001b[0;31m    Ta =\u001b[0m\n\u001b[0m         ^\u001b[0m\n\u001b[0;31mSyntaxError\u001b[0m\u001b[0;31m:\u001b[0m invalid syntax\n"
     ]
    }
   ],
   "source": [
    "# Comparando agora com a solução analítica:\n",
    "# Inicialização da matriz de temperaturas: T(k, i)\n",
    "Ta = \n",
    "\n",
    "# Set the initial condition\n",
    "Ta[0,:] = \n",
    "\n",
    "# Set the boundary conditions\n",
    "Ta[1:, 0] = \n",
    "Ta[1:, -1] = \n",
    "\n",
    "N = 20; # Número de termos da série de Fourier\n",
    "...\n",
    "\n",
    "# Animação \\0/\n",
    "def animate(k):\n",
    "  plotheatprofile(Ta[k,:], k)\n",
    "\n",
    "anim = animation.FuncAnimation(plt.figure(), animate, interval=1, frames=tf, repeat=True)\n",
    "anim.save(\"solucao_equacao_do_calor_analitica.gif\")"
   ]
  },
  {
   "cell_type": "markdown",
   "id": "2e157781",
   "metadata": {},
   "source": []
  }
 ],
 "metadata": {
  "kernelspec": {
   "display_name": "Python 3",
   "language": "python",
   "name": "python3"
  },
  "language_info": {
   "codemirror_mode": {
    "name": "ipython",
    "version": 3
   },
   "file_extension": ".py",
   "mimetype": "text/x-python",
   "name": "python",
   "nbconvert_exporter": "python",
   "pygments_lexer": "ipython3",
   "version": "3.10.12"
  }
 },
 "nbformat": 4,
 "nbformat_minor": 5
}
