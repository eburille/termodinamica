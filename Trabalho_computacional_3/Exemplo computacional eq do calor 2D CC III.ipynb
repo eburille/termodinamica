{
 "cells": [
  {
   "cell_type": "markdown",
   "id": "ae8fd56d",
   "metadata": {},
   "source": [
    "## Solução Numérica da Equação do Calor Bidimensional\n",
    "### Condições de Contorno de Segunda Espécie\n",
    "\n",
    "### Usando o método das diferenças finitas\n",
    "\n",
    "$\\begin{equation}\n",
    "\\large\n",
    "u^{k+1}_{i,j} = \\Delta t \\cdot alpha \\cdot(\\frac{u^{k}_{i+1,j} - 2u^{k}_{i,j} + u^{k}_{i-1,j}}{\\Delta x^2}) + \\Delta t \\cdot alpha \\cdot(\\frac{u^{k}_{i,j+1} - 2u^{k}_{i,j} + u^{k}_{i,j-1}}{\\Delta y^2}) + u^{k}_{i,j}\n",
    "\\end{equation}$\n",
    "\n",
    "### determine a distribuição de temperaturas dentro de uma placa plana homogênea com as seguintes condições iniciais e de contorno:\n",
    "\n",
    "<img src=\"Problema Condução Bidimensional do Calor CC III.png\" width=\"250\" align=\"center\">\n",
    "\n"
   ]
  },
  {
   "cell_type": "code",
   "execution_count": null,
   "id": "9e3fc321",
   "metadata": {},
   "outputs": [],
   "source": [
    "# Carregamento de pacotes\n",
    "import numpy as np\n",
    "import matplotlib.pyplot as plt\n",
    "import matplotlib.animation as animation\n",
    "from matplotlib.animation import FuncAnimation"
   ]
  },
  {
   "cell_type": "code",
   "execution_count": null,
   "id": "0fd1f297",
   "metadata": {},
   "outputs": [],
   "source": [
    "# Parâmetros do problema\n"
   ]
  },
  {
   "cell_type": "code",
   "execution_count": null,
   "id": "fed7cb13",
   "metadata": {},
   "outputs": [],
   "source": [
    "# Função para resolver as equações\n",
    "def calcula(T,kt,h):\n",
    "\n",
    "         \n",
    "  return T"
   ]
  },
  {
   "cell_type": "code",
   "execution_count": null,
   "id": "ed27538a",
   "metadata": {},
   "outputs": [],
   "source": [
    "# Parâmetros do algoritmo\n"
   ]
  },
  {
   "cell_type": "code",
   "execution_count": null,
   "id": "40a24351",
   "metadata": {},
   "outputs": [],
   "source": [
    "# Função para plotar o mapa de calor\n",
    "def plotheatmap(T_k, k):\n",
    "  # Clear the current plot figure\n",
    "  plt.clf()\n",
    "  plt.title(f\"Temperatura em t = {k*delta_t:.3f} s\")\n",
    "  plt.xlabel(\"x\")\n",
    "  plt.ylabel(\"y\")\n",
    "  \n",
    "  # Plot de T_k (T no passo de tempo k)\n",
    "  plt.pcolormesh(T_k, cmap=plt.cm.jet, vmin=0, vmax=100)\n",
    "  plt.colorbar()\n",
    "  \n",
    "  return plt"
   ]
  },
  {
   "cell_type": "code",
   "execution_count": null,
   "id": "256b3639",
   "metadata": {},
   "outputs": [],
   "source": [
    "# Inicialização da matriz de temperaturas: T(k, i, j)\n"
   ]
  },
  {
   "cell_type": "code",
   "execution_count": null,
   "id": "43017f7e",
   "metadata": {},
   "outputs": [],
   "source": [
    "# Cálculos - Bi >> 1\n",
    "\n",
    "# Animação \\0/\n",
    "def animate(k):\n",
    "  plotheatmap(T[k], k)\n",
    "\n",
    "anim = animation.FuncAnimation(plt.figure(), animate, interval=0.1, frames=tf, repeat=True)\n",
    "anim.save(\"solucao_equacao_do_calor_1.gif\")"
   ]
  },
  {
   "cell_type": "code",
   "execution_count": null,
   "id": "8cb074be",
   "metadata": {},
   "outputs": [],
   "source": [
    "# Inicialização da matriz de temperaturas: T(k, i, j)\n"
   ]
  },
  {
   "cell_type": "code",
   "execution_count": null,
   "id": "195594a5",
   "metadata": {},
   "outputs": [],
   "source": [
    "# Cálculos - Bi << 1\n",
    "\n",
    "# Animação \\0/\n",
    "def animate(k):\n",
    "  plotheatmap(T[k], k)\n",
    "\n",
    "anim = animation.FuncAnimation(plt.figure(), animate, interval=0.1, frames=tf, repeat=True)\n",
    "anim.save(\"solucao_equacao_do_calor_2.gif\")"
   ]
  }
 ],
 "metadata": {
  "kernelspec": {
   "display_name": "Python 3 (ipykernel)",
   "language": "python",
   "name": "python3"
  },
  "language_info": {
   "codemirror_mode": {
    "name": "ipython",
    "version": 3
   },
   "file_extension": ".py",
   "mimetype": "text/x-python",
   "name": "python",
   "nbconvert_exporter": "python",
   "pygments_lexer": "ipython3",
   "version": "3.9.16"
  }
 },
 "nbformat": 4,
 "nbformat_minor": 5
}
