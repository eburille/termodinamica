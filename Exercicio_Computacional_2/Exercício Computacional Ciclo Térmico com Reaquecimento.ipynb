{
 "cells": [
  {
   "cell_type": "markdown",
   "metadata": {},
   "source": [
    "## ENG07086 - Termodinâmica e Transferência de Calor\n",
    "### Exercício Computacional 2 (Unidade 4) - Ciclo Térmico com Reaquecimento"
   ]
  },
  {
   "cell_type": "markdown",
   "metadata": {},
   "source": [
    "### Construa um notebook com dashboard para um ciclo de Rankine com reaquecimento conforme o diagrama abaixo.\n",
    "\n",
    "<img src=\"Imagem Ciclo com Reaquecimento.png\">\n",
    "\n",
    "Ciclo de Rankine com reaquecimento\n",
    "\n",
    "#### Os dados do ciclo são dados no arquivo \"dataset_ciclo_com_reaquecimento.csv\"\n",
    "\n",
    "#### Observações:\n",
    "#### - veja que neste ciclo o trabalho produzido na turbina e o calor recebido na caldeira possuem duas parcelas\n",
    "#### - considere que a temperatura após o reaquecimento é igual à temperatura após a primeira passagem na caldeira\n"
   ]
  },
  {
   "cell_type": "code",
   "execution_count": 474,
   "metadata": {},
   "outputs": [],
   "source": [
    "# Carregando os pacotes do Python\n",
    "import numpy as np\n",
    "\n",
    "#T3 = T5\n",
    "#S4 = S3\n",
    "#P1 = P6\n",
    "#P2 = P3\n",
    "#P4 = P5\n",
    "#S2 = S1\n",
    "\n",
    "# W bomba = h2 - h1\n",
    "# W turbina = (h4 - h3) + (h6 - h5)"
   ]
  },
  {
   "cell_type": "code",
   "execution_count": 475,
   "metadata": {},
   "outputs": [],
   "source": [
    "# Importando as bibliotecas do CoolProp\n",
    "import CoolProp as CP\n",
    "from CoolProp.CoolProp import PropsSI\n",
    "# Selecionando o fluido\n",
    "fluido = 'Water'"
   ]
  },
  {
   "cell_type": "code",
   "execution_count": 476,
   "metadata": {},
   "outputs": [],
   "source": [
    "def pegapropriedades(Pressure = None, Temperature = None, Fluido = None):\n",
    "    \n",
    "    if not Temperature: # Fluido saturado - um grau de liberdade\n",
    "        T = PropsSI('T', 'P', Pressure*1e5, 'Q', 0, Fluido)\n",
    "        temperature = T\n",
    "        slat = PropsSI('S', 'P', Pressure*1e5, 'Q', 0, Fluido) / 1000. # entropia do liquido saturado em kJ/kg/K\n",
    "        svat = PropsSI('S', 'P', Pressure*1e5, 'Q', 1, Fluido) / 1000. # entropia do vapor saturado em kJ/kg/K\n",
    "        entropy = [slat, svat]\n",
    "\n",
    "        hlat = PropsSI('H', 'P', Pressure*1e5, 'Q', 0, Fluido) / 1000. # entalpia do liquido saturado em kJ/kg\n",
    "        hvat = PropsSI('H', 'P', Pressure*1e5, 'Q', 1, Fluido) / 1000. # entalpia do vapor saturado em kJ/kg\n",
    "\n",
    "        enthalpy = [hlat, hvat]\n",
    "    \n",
    "    else:\n",
    "        temperature = Temperature + 273.15\n",
    "        entropy = PropsSI('S', 'P', Pressure*1e5, 'T', temperature, Fluido)/1000. #kJ/kg/K\n",
    "        enthalpy = PropsSI('H', 'P', Pressure*1e5, 'T', temperature, Fluido) /1000. #kJ/kg\n",
    "\n",
    "    \n",
    "    return enthalpy, entropy, temperature "
   ]
  },
  {
   "cell_type": "markdown",
   "metadata": {},
   "source": [
    "### Definição da Função rendimento"
   ]
  },
  {
   "cell_type": "code",
   "execution_count": 477,
   "metadata": {},
   "outputs": [],
   "source": [
    "# Definindo a função de rendimento\n",
    "def rendimento(P3, T3, P4, P6):\n",
    "    P2 = P3\n",
    "    T5 = T3\n",
    "    P1 = P6\n",
    "    P5 = P4\n",
    "\n",
    "    h1 = PropsSI('H', 'P', P1*1e5, 'Q', 0, fluido)/1000. # kJ/kg\n",
    "    s1 = PropsSI('S', 'P', P1*1e5, 'Q', 0, fluido)/1000. # kJ/kg/K\n",
    "    s2 = s1\n",
    "\n",
    "    h2 = PropsSI('H', 'P', P2*1e5, 'S', s2*1000, fluido)/1000.\n",
    "    \n",
    "    h3, s3, t3 = pegapropriedades(Pressure=P3, Temperature=T3 + 273.15, Fluido=fluido)\n",
    "    s4 = s3\n",
    "    h4 = PropsSI('H', 'P', P4*1e5, 'S', s4*1000, fluido)/1000.\n",
    "    h5, s5, t5 = pegapropriedades(Pressure=P5, Temperature=T5 + 273.15, Fluido=fluido)\n",
    "    s6 = s5\n",
    "    h6 = PropsSI('H', 'P', P6*1e5, 'S', s6*1000, fluido) /1000.\n",
    "\n",
    "    qq = (h3 - h2) + (h5 - h4)\n",
    "    wb = h2 - h1\n",
    "    wt = (h4 - h3) + (h6 - h5)\n",
    "    wliq = abs(wt) - abs(wb)\n",
    "\n",
    "    rend = wliq/qq\n",
    "    \n",
    "    return rend"
   ]
  },
  {
   "cell_type": "code",
   "execution_count": 478,
   "metadata": {},
   "outputs": [],
   "source": [
    "# Carregando aquivos de dados\n",
    "import pandas as pd\n",
    "\n",
    "dados = pd.read_csv('dataset_ciclo_com_reaquecimento.csv', sep=';', encoding='latin1')"
   ]
  },
  {
   "cell_type": "code",
   "execution_count": 479,
   "metadata": {},
   "outputs": [
    {
     "name": "stderr",
     "output_type": "stream",
     "text": [
      "/tmp/ipykernel_15405/419107543.py:13: FutureWarning:\n",
      "\n",
      "Setting an item of incompatible dtype is deprecated and will raise an error in a future version of pandas. Value '' has dtype incompatible with float64, please explicitly cast to a compatible dtype first.\n",
      "\n"
     ]
    }
   ],
   "source": [
    "# Rodando função de rendimento para o dataset\n",
    "\n",
    "rend = np.zeros(len(dados.P3))\n",
    "for i in range(1, len(rend)-1):\n",
    "    P3 = P2 = float(dados['P3'][i])\n",
    "    T3 = T5 = float(dados['T3'][i])\n",
    "    P1 = P6 = float(dados['P1'][i])\n",
    "    P4 = P5 = float(dados['P4'][i])\n",
    "    rend[i] = rendimento(P3, T3, P4, P6)\n",
    "\n",
    "dados_rend = dados\n",
    "dados_rend['Rendimento'] = rend\n",
    "dados_rend.loc[0, \"Rendimento\"] = ''"
   ]
  },
  {
   "cell_type": "code",
   "execution_count": 480,
   "metadata": {},
   "outputs": [
    {
     "data": {
      "text/plain": [
       "<Figure size 1200x800 with 0 Axes>"
      ]
     },
     "execution_count": 480,
     "metadata": {},
     "output_type": "execute_result"
    },
    {
     "data": {
      "text/plain": [
       "<Figure size 1200x800 with 0 Axes>"
      ]
     },
     "metadata": {},
     "output_type": "display_data"
    }
   ],
   "source": [
    "# Gráfico estático\n",
    "from matplotlib import pyplot as plt\n",
    "plt.figure(num=None,figsize=(12,8),facecolor='w',edgecolor='k')"
   ]
  },
  {
   "cell_type": "code",
   "execution_count": 481,
   "metadata": {},
   "outputs": [
    {
     "data": {
      "image/png": "[encoded data removed]",
      "text/plain": [
       "<Figure size 1200x800 with 1 Axes>"
      ]
     },
     "metadata": {},
     "output_type": "display_data"
    }
   ],
   "source": [
    "# Criando um dashboard simples\n",
    "from matplotlib import pyplot as plt\n",
    "%matplotlib inline\n",
    "plt.figure(num=None,figsize=(12,8),facecolor='w',edgecolor='k')\n",
    "plt.plot(rend[1:-1],marker='o',markersize = 2)\n",
    "plt.show()"
   ]
  },
  {
   "cell_type": "code",
   "execution_count": null,
   "metadata": {},
   "outputs": [
    {
     "data": {
      "application/vnd.plotly.v1+json": {
       "config": {
        "plotlyServerURL": "https://plot.ly"
       },
       "data": [
        {
         "line": {
          "color": "cyan",
          "width": 3
         },
         "marker": {
          "color": "white",
          "line": {
           "color": "cyan",
           "width": 2
          },
          "size": 10
         },
         "mode": "lines+markers",
         "name": "Dados",
         "type": "scatter",
         "x": [
          "14/05/2025 14:30:00",
          "14/05/2025 14:31:00",
          "14/05/2025 14:32:00",
          "14/05/2025 14:33:00",
          "14/05/2025 14:34:00",
          "14/05/2025 14:35:00",
          "14/05/2025 14:36:00",
          "14/05/2025 14:37:00",
          "14/05/2025 14:38:00",
          "14/05/2025 14:39:00",
          "14/05/2025 14:40:00",
          "14/05/2025 14:41:00",
          "14/05/2025 14:42:00",
          "14/05/2025 14:43:00",
          "14/05/2025 14:44:00",
          "14/05/2025 14:45:00",
          "14/05/2025 14:46:00",
          "14/05/2025 14:47:00",
          "14/05/2025 14:48:00",
          "14/05/2025 14:49:00",
          "14/05/2025 14:50:00",
          "14/05/2025 14:51:00",
          "14/05/2025 14:52:00",
          "14/05/2025 14:53:00",
          "14/05/2025 14:54:00",
          "14/05/2025 14:55:00",
          "14/05/2025 14:56:00",
          "14/05/2025 14:57:00",
          "14/05/2025 14:58:00",
          "14/05/2025 14:59:00",
          "14/05/2025 15:00:00",
          "14/05/2025 15:01:00",
          "14/05/2025 15:02:00",
          "14/05/2025 15:03:00",
          "14/05/2025 15:04:00",
          "14/05/2025 15:05:00",
          "14/05/2025 15:06:00",
          "14/05/2025 15:07:00",
          "14/05/2025 15:08:00",
          "14/05/2025 15:09:00",
          "14/05/2025 15:10:00",
          "14/05/2025 15:11:00",
          "14/05/2025 15:12:00",
          "14/05/2025 15:13:00",
          "14/05/2025 15:14:00",
          "14/05/2025 15:15:00",
          "14/05/2025 15:16:00",
          "14/05/2025 15:17:00",
          "14/05/2025 15:18:00",
          "14/05/2025 15:19:00",
          "14/05/2025 15:20:00",
          "14/05/2025 15:21:00",
          "14/05/2025 15:22:00",
          "14/05/2025 15:23:00",
          "14/05/2025 15:24:00",
          "14/05/2025 15:25:00",
          "14/05/2025 15:26:00",
          "14/05/2025 15:27:00",
          "14/05/2025 15:28:00",
          "14/05/2025 15:29:00",
          "14/05/2025 15:30:00",
          "14/05/2025 15:31:00",
          "14/05/2025 15:32:00",
          "14/05/2025 15:33:00",
          "14/05/2025 15:34:00",
          "14/05/2025 15:35:00",
          "14/05/2025 15:36:00",
          "14/05/2025 15:37:00",
          "14/05/2025 15:38:00",
          "14/05/2025 15:39:00",
          "14/05/2025 15:40:00",
          "14/05/2025 15:41:00",
          "14/05/2025 15:42:00",
          "14/05/2025 15:43:00",
          "14/05/2025 15:44:00",
          "14/05/2025 15:45:00",
          "14/05/2025 15:46:00",
          "14/05/2025 15:47:00",
          "14/05/2025 15:48:00",
          "14/05/2025 15:49:00",
          "14/05/2025 15:50:00",
          "14/05/2025 15:51:00",
          "14/05/2025 15:52:00",
          "14/05/2025 15:53:00",
          "14/05/2025 15:54:00",
          "14/05/2025 15:55:00",
          "14/05/2025 15:56:00",
          "14/05/2025 15:57:00",
          "14/05/2025 15:58:00",
          "14/05/2025 15:59:00",
          "14/05/2025 16:00:00",
          "14/05/2025 16:01:00",
          "14/05/2025 16:02:00",
          "14/05/2025 16:03:00",
          "14/05/2025 16:04:00",
          "14/05/2025 16:05:00",
          "14/05/2025 16:06:00"
         ],
         "y": [
          0.30822172578621204,
          0.3071881808085451,
          0.305676066088792,
          0.3073629776183764,
          0.30974753203661326,
          0.3091648091686206,
          0.30795520785692515,
          0.3093593417351189,
          0.311245836951193,
          0.304976770128022,
          0.30724204476356776,
          0.30940776814013626,
          0.30518251246427464,
          0.3069677713500232,
          0.3066351731350513,
          0.30694631180396503,
          0.30642215843791326,
          0.3062223045738447,
          0.3098778690493132,
          0.31019736465154346,
          0.30555735770062725,
          0.30299215761835707,
          0.3080638941479823,
          0.3060304369910535,
          0.30993549442543333,
          0.30570647344829494,
          0.3084009709692316,
          0.3092808576625768,
          0.30428200498471303,
          0.31038803893136696,
          0.30795159985450166,
          0.3092214367036979,
          0.3093122494338497,
          0.31042992116614815,
          0.3073021393716389,
          0.3051597367802633,
          0.30412559618791624,
          0.30745040666790957,
          0.3081234575030499,
          0.304648148590004,
          0.3058140816359694,
          0.3062266109183725,
          0.3059221138009418,
          0.3062944343280739,
          0.3069644664433514,
          0.3086071713218395,
          0.3087796681231765,
          0.30535187087536214,
          0.3065454852547547,
          0.30776638721119015,
          0.3097416770770396,
          0.30800966478891256,
          0.30998875764927725,
          0.30948071079945216,
          0.3040278775098483,
          0.3086636675659416,
          0.308094872825081,
          0.30991021347350456,
          0.3048374207808874,
          0.30565519941383296,
          0.3062556699246152,
          0.3076634362367274,
          0.307249478097262,
          0.30283879912484507,
          0.3040184160955889,
          0.30934716379641747,
          0.3099444841128517,
          0.30819056506889336,
          0.3095129885915384,
          0.30690451624673853,
          0.30917043546495615,
          0.3081496212779055,
          0.3086069790834894,
          0.303172162807688,
          0.3080899118728876,
          0.30647541037120013,
          0.30661666539520094,
          0.3097296457007489,
          0.3036534605898559,
          0.30601112177427414,
          0.3014717906058907,
          0.30560791168725254,
          0.31092058598711075,
          0.3096316219428024,
          0.3037623348824365,
          0.3071010703588382,
          0.30410070899626673,
          0.307845584027801,
          0.3066463988301888,
          0.3064718452622446,
          0.30507681134068926,
          0.3094963289751836,
          0.3049979383911162,
          0.3040115173418083,
          0.30348751202140484,
          0.30524668054409254,
          0.3078345702089808
         ]
        }
       ],
       "layout": {
        "font": {
         "family": "Arial",
         "size": 14
        },
        "hovermode": "x unified",
        "paper_bgcolor": "rgba(0,0,0,0)",
        "plot_bgcolor": "rgba(0,0,0,0)",
        "template": {
         "data": {
          "bar": [
           {
            "error_x": {
             "color": "#f2f5fa"
            },
            "error_y": {
             "color": "#f2f5fa"
            },
            "marker": {
             "line": {
              "color": "rgb(17,17,17)",
              "width": 0.5
             },
             "pattern": {
              "fillmode": "overlay",
              "size": 10,
              "solidity": 0.2
             }
            },
            "type": "bar"
           }
          ],
          "barpolar": [
           {
            "marker": {
             "line": {
              "color": "rgb(17,17,17)",
              "width": 0.5
             },
             "pattern": {
              "fillmode": "overlay",
              "size": 10,
              "solidity": 0.2
             }
            },
            "type": "barpolar"
           }
          ],
          "carpet": [
           {
            "aaxis": {
             "endlinecolor": "#A2B1C6",
             "gridcolor": "#506784",
             "linecolor": "#506784",
             "minorgridcolor": "#506784",
             "startlinecolor": "#A2B1C6"
            },
            "baxis": {
             "endlinecolor": "#A2B1C6",
             "gridcolor": "#506784",
             "linecolor": "#506784",
             "minorgridcolor": "#506784",
             "startlinecolor": "#A2B1C6"
            },
            "type": "carpet"
           }
          ],
          "choropleth": [
           {
            "colorbar": {
             "outlinewidth": 0,
             "ticks": ""
            },
            "type": "choropleth"
           }
          ],
          "contour": [
           {
            "colorbar": {
             "outlinewidth": 0,
             "ticks": ""
            },
            "colorscale": [
             [
              0,
              "#0d0887"
             ],
             [
              0.1111111111111111,
              "#46039f"
             ],
             [
              0.2222222222222222,
              "#7201a8"
             ],
             [
              0.3333333333333333,
              "#9c179e"
             ],
             [
              0.4444444444444444,
              "#bd3786"
             ],
             [
              0.5555555555555556,
              "#d8576b"
             ],
             [
              0.6666666666666666,
              "#ed7953"
             ],
             [
              0.7777777777777778,
              "#fb9f3a"
             ],
             [
              0.8888888888888888,
              "#fdca26"
             ],
             [
              1,
              "#f0f921"
             ]
            ],
            "type": "contour"
           }
          ],
          "contourcarpet": [
           {
            "colorbar": {
             "outlinewidth": 0,
             "ticks": ""
            },
            "type": "contourcarpet"
           }
          ],
          "heatmap": [
           {
            "colorbar": {
             "outlinewidth": 0,
             "ticks": ""
            },
            "colorscale": [
             [
              0,
              "#0d0887"
             ],
             [
              0.1111111111111111,
              "#46039f"
             ],
             [
              0.2222222222222222,
              "#7201a8"
             ],
             [
              0.3333333333333333,
              "#9c179e"
             ],
             [
              0.4444444444444444,
              "#bd3786"
             ],
             [
              0.5555555555555556,
              "#d8576b"
             ],
             [
              0.6666666666666666,
              "#ed7953"
             ],
             [
              0.7777777777777778,
              "#fb9f3a"
             ],
             [
              0.8888888888888888,
              "#fdca26"
             ],
             [
              1,
              "#f0f921"
             ]
            ],
            "type": "heatmap"
           }
          ],
          "histogram": [
           {
            "marker": {
             "pattern": {
              "fillmode": "overlay",
              "size": 10,
              "solidity": 0.2
             }
            },
            "type": "histogram"
           }
          ],
          "histogram2d": [
           {
            "colorbar": {
             "outlinewidth": 0,
             "ticks": ""
            },
            "colorscale": [
             [
              0,
              "#0d0887"
             ],
             [
              0.1111111111111111,
              "#46039f"
             ],
             [
              0.2222222222222222,
              "#7201a8"
             ],
             [
              0.3333333333333333,
              "#9c179e"
             ],
             [
              0.4444444444444444,
              "#bd3786"
             ],
             [
              0.5555555555555556,
              "#d8576b"
             ],
             [
              0.6666666666666666,
              "#ed7953"
             ],
             [
              0.7777777777777778,
              "#fb9f3a"
             ],
             [
              0.8888888888888888,
              "#fdca26"
             ],
             [
              1,
              "#f0f921"
             ]
            ],
            "type": "histogram2d"
           }
          ],
          "histogram2dcontour": [
           {
            "colorbar": {
             "outlinewidth": 0,
             "ticks": ""
            },
            "colorscale": [
             [
              0,
              "#0d0887"
             ],
             [
              0.1111111111111111,
              "#46039f"
             ],
             [
              0.2222222222222222,
              "#7201a8"
             ],
             [
              0.3333333333333333,
              "#9c179e"
             ],
             [
              0.4444444444444444,
              "#bd3786"
             ],
             [
              0.5555555555555556,
              "#d8576b"
             ],
             [
              0.6666666666666666,
              "#ed7953"
             ],
             [
              0.7777777777777778,
              "#fb9f3a"
             ],
             [
              0.8888888888888888,
              "#fdca26"
             ],
             [
              1,
              "#f0f921"
             ]
            ],
            "type": "histogram2dcontour"
           }
          ],
          "mesh3d": [
           {
            "colorbar": {
             "outlinewidth": 0,
             "ticks": ""
            },
            "type": "mesh3d"
           }
          ],
          "parcoords": [
           {
            "line": {
             "colorbar": {
              "outlinewidth": 0,
              "ticks": ""
             }
            },
            "type": "parcoords"
           }
          ],
          "pie": [
           {
            "automargin": true,
            "type": "pie"
           }
          ],
          "scatter": [
           {
            "marker": {
             "line": {
              "color": "#283442"
             }
            },
            "type": "scatter"
           }
          ],
          "scatter3d": [
           {
            "line": {
             "colorbar": {
              "outlinewidth": 0,
              "ticks": ""
             }
            },
            "marker": {
             "colorbar": {
              "outlinewidth": 0,
              "ticks": ""
             }
            },
            "type": "scatter3d"
           }
          ],
          "scattercarpet": [
           {
            "marker": {
             "colorbar": {
              "outlinewidth": 0,
              "ticks": ""
             }
            },
            "type": "scattercarpet"
           }
          ],
          "scattergeo": [
           {
            "marker": {
             "colorbar": {
              "outlinewidth": 0,
              "ticks": ""
             }
            },
            "type": "scattergeo"
           }
          ],
          "scattergl": [
           {
            "marker": {
             "line": {
              "color": "#283442"
             }
            },
            "type": "scattergl"
           }
          ],
          "scattermap": [
           {
            "marker": {
             "colorbar": {
              "outlinewidth": 0,
              "ticks": ""
             }
            },
            "type": "scattermap"
           }
          ],
          "scattermapbox": [
           {
            "marker": {
             "colorbar": {
              "outlinewidth": 0,
              "ticks": ""
             }
            },
            "type": "scattermapbox"
           }
          ],
          "scatterpolar": [
           {
            "marker": {
             "colorbar": {
              "outlinewidth": 0,
              "ticks": ""
             }
            },
            "type": "scatterpolar"
           }
          ],
          "scatterpolargl": [
           {
            "marker": {
             "colorbar": {
              "outlinewidth": 0,
              "ticks": ""
             }
            },
            "type": "scatterpolargl"
           }
          ],
          "scatterternary": [
           {
            "marker": {
             "colorbar": {
              "outlinewidth": 0,
              "ticks": ""
             }
            },
            "type": "scatterternary"
           }
          ],
          "surface": [
           {
            "colorbar": {
             "outlinewidth": 0,
             "ticks": ""
            },
            "colorscale": [
             [
              0,
              "#0d0887"
             ],
             [
              0.1111111111111111,
              "#46039f"
             ],
             [
              0.2222222222222222,
              "#7201a8"
             ],
             [
              0.3333333333333333,
              "#9c179e"
             ],
             [
              0.4444444444444444,
              "#bd3786"
             ],
             [
              0.5555555555555556,
              "#d8576b"
             ],
             [
              0.6666666666666666,
              "#ed7953"
             ],
             [
              0.7777777777777778,
              "#fb9f3a"
             ],
             [
              0.8888888888888888,
              "#fdca26"
             ],
             [
              1,
              "#f0f921"
             ]
            ],
            "type": "surface"
           }
          ],
          "table": [
           {
            "cells": {
             "fill": {
              "color": "#506784"
             },
             "line": {
              "color": "rgb(17,17,17)"
             }
            },
            "header": {
             "fill": {
              "color": "#2a3f5f"
             },
             "line": {
              "color": "rgb(17,17,17)"
             }
            },
            "type": "table"
           }
          ]
         },
         "layout": {
          "annotationdefaults": {
           "arrowcolor": "#f2f5fa",
           "arrowhead": 0,
           "arrowwidth": 1
          },
          "autotypenumbers": "strict",
          "coloraxis": {
           "colorbar": {
            "outlinewidth": 0,
            "ticks": ""
           }
          },
          "colorscale": {
           "diverging": [
            [
             0,
             "#8e0152"
            ],
            [
             0.1,
             "#c51b7d"
            ],
            [
             0.2,
             "#de77ae"
            ],
            [
             0.3,
             "#f1b6da"
            ],
            [
             0.4,
             "#fde0ef"
            ],
            [
             0.5,
             "#f7f7f7"
            ],
            [
             0.6,
             "#e6f5d0"
            ],
            [
             0.7,
             "#b8e186"
            ],
            [
             0.8,
             "#7fbc41"
            ],
            [
             0.9,
             "#4d9221"
            ],
            [
             1,
             "#276419"
            ]
           ],
           "sequential": [
            [
             0,
             "#0d0887"
            ],
            [
             0.1111111111111111,
             "#46039f"
            ],
            [
             0.2222222222222222,
             "#7201a8"
            ],
            [
             0.3333333333333333,
             "#9c179e"
            ],
            [
             0.4444444444444444,
             "#bd3786"
            ],
            [
             0.5555555555555556,
             "#d8576b"
            ],
            [
             0.6666666666666666,
             "#ed7953"
            ],
            [
             0.7777777777777778,
             "#fb9f3a"
            ],
            [
             0.8888888888888888,
             "#fdca26"
            ],
            [
             1,
             "#f0f921"
            ]
           ],
           "sequentialminus": [
            [
             0,
             "#0d0887"
            ],
            [
             0.1111111111111111,
             "#46039f"
            ],
            [
             0.2222222222222222,
             "#7201a8"
            ],
            [
             0.3333333333333333,
             "#9c179e"
            ],
            [
             0.4444444444444444,
             "#bd3786"
            ],
            [
             0.5555555555555556,
             "#d8576b"
            ],
            [
             0.6666666666666666,
             "#ed7953"
            ],
            [
             0.7777777777777778,
             "#fb9f3a"
            ],
            [
             0.8888888888888888,
             "#fdca26"
            ],
            [
             1,
             "#f0f921"
            ]
           ]
          },
          "colorway": [
           "#636efa",
           "#EF553B",
           "#00cc96",
           "#ab63fa",
           "#FFA15A",
           "#19d3f3",
           "#FF6692",
           "#B6E880",
           "#FF97FF",
           "#FECB52"
          ],
          "font": {
           "color": "#f2f5fa"
          },
          "geo": {
           "bgcolor": "rgb(17,17,17)",
           "lakecolor": "rgb(17,17,17)",
           "landcolor": "rgb(17,17,17)",
           "showlakes": true,
           "showland": true,
           "subunitcolor": "#506784"
          },
          "hoverlabel": {
           "align": "left"
          },
          "hovermode": "closest",
          "mapbox": {
           "style": "dark"
          },
          "paper_bgcolor": "rgb(17,17,17)",
          "plot_bgcolor": "rgb(17,17,17)",
          "polar": {
           "angularaxis": {
            "gridcolor": "#506784",
            "linecolor": "#506784",
            "ticks": ""
           },
           "bgcolor": "rgb(17,17,17)",
           "radialaxis": {
            "gridcolor": "#506784",
            "linecolor": "#506784",
            "ticks": ""
           }
          },
          "scene": {
           "xaxis": {
            "backgroundcolor": "rgb(17,17,17)",
            "gridcolor": "#506784",
            "gridwidth": 2,
            "linecolor": "#506784",
            "showbackground": true,
            "ticks": "",
            "zerolinecolor": "#C8D4E3"
           },
           "yaxis": {
            "backgroundcolor": "rgb(17,17,17)",
            "gridcolor": "#506784",
            "gridwidth": 2,
            "linecolor": "#506784",
            "showbackground": true,
            "ticks": "",
            "zerolinecolor": "#C8D4E3"
           },
           "zaxis": {
            "backgroundcolor": "rgb(17,17,17)",
            "gridcolor": "#506784",
            "gridwidth": 2,
            "linecolor": "#506784",
            "showbackground": true,
            "ticks": "",
            "zerolinecolor": "#C8D4E3"
           }
          },
          "shapedefaults": {
           "line": {
            "color": "#f2f5fa"
           }
          },
          "sliderdefaults": {
           "bgcolor": "#C8D4E3",
           "bordercolor": "rgb(17,17,17)",
           "borderwidth": 1,
           "tickwidth": 0
          },
          "ternary": {
           "aaxis": {
            "gridcolor": "#506784",
            "linecolor": "#506784",
            "ticks": ""
           },
           "baxis": {
            "gridcolor": "#506784",
            "linecolor": "#506784",
            "ticks": ""
           },
           "bgcolor": "rgb(17,17,17)",
           "caxis": {
            "gridcolor": "#506784",
            "linecolor": "#506784",
            "ticks": ""
           }
          },
          "title": {
           "x": 0.05
          },
          "updatemenudefaults": {
           "bgcolor": "#506784",
           "borderwidth": 0
          },
          "xaxis": {
           "automargin": true,
           "gridcolor": "#283442",
           "linecolor": "#506784",
           "ticks": "",
           "title": {
            "standoff": 15
           },
           "zerolinecolor": "#283442",
           "zerolinewidth": 2
          },
          "yaxis": {
           "automargin": true,
           "gridcolor": "#283442",
           "linecolor": "#506784",
           "ticks": "",
           "title": {
            "standoff": 15
           },
           "zerolinecolor": "#283442",
           "zerolinewidth": 2
          }
         }
        },
        "title": {
         "text": "Ciclo Térmico com Reaquecimento"
        },
        "xaxis": {
         "title": {
          "text": "Tempo"
         }
        },
        "yaxis": {
         "title": {
          "text": "Rendimento"
         }
        }
       }
      }
     },
     "metadata": {},
     "output_type": "display_data"
    }
   ],
   "source": [
    "# Criando um dashboard cool\n",
    "\n",
    "import plotly.graph_objects as go\n",
    "import pandas as pd\n",
    "\n",
    "def grafico_legal_plotly(x, y, titulo=\"Gráfico Legal\", tema=\"plotly_dark\", x_label=\"Eixo X\", y_label=\"Eixo Y\"):\n",
    "    \"\"\"\n",
    "    Gera um gráfico de linha interativo usando Plotly.\n",
    "\n",
    "    Parâmetros:\n",
    "        x (list): Lista com os valores do eixo X (categorias ou datas).\n",
    "        y (list): Lista com os valores do eixo Y (números).\n",
    "        titulo (str): Título do gráfico.\n",
    "        tema (str): Tema do gráfico (ex: 'plotly', 'plotly_dark', etc.).\n",
    "        x_label (str): Rótulo do eixo X.\n",
    "        y_label (str): Rótulo do eixo Y.\n",
    "    \"\"\"\n",
    "\n",
    "    # Verifica se os dados têm o mesmo comprimento\n",
    "    if len(x) != len(y):\n",
    "        raise ValueError(\"As listas 'x' e 'y' devem ter o mesmo comprimento.\")\n",
    "\n",
    "    fig = go.Figure()\n",
    "\n",
    "    fig.add_trace(go.Scatter(\n",
    "        x=x,\n",
    "        y=y,\n",
    "        mode='lines+markers',\n",
    "        name='Dados',\n",
    "        line=dict(color='cyan', width=3),\n",
    "        marker=dict(size=10, color='white', line=dict(width=2, color='cyan'))\n",
    "    ))\n",
    "\n",
    "    fig.update_layout(\n",
    "        title=titulo,\n",
    "        template=tema,\n",
    "        xaxis_title=x_label,\n",
    "        yaxis_title=y_label,\n",
    "        font=dict(family=\"Arial\", size=14),\n",
    "        plot_bgcolor=\"rgba(0,0,0,0)\",\n",
    "        paper_bgcolor=\"rgba(0,0,0,0)\",\n",
    "        hovermode=\"x unified\",\n",
    "    )\n",
    "\n",
    "    fig.show()\n",
    "\n",
    "y = dados_rend['Rendimento'][1:-1]\n",
    "x = dados_rend['Time'][1:-1]\n",
    "grafico_legal_plotly(x, y, \"Ciclo Térmico com Reaquecimento\", x_label= 'Tempo', y_label= 'Rendimento' )\n"
   ]
  }
 ],
 "metadata": {
  "kernelspec": {
   "display_name": "vTermodinamica",
   "language": "python",
   "name": "python3"
  },
  "language_info": {
   "codemirror_mode": {
    "name": "ipython",
    "version": 3
   },
   "file_extension": ".py",
   "mimetype": "text/x-python",
   "name": "python",
   "nbconvert_exporter": "python",
   "pygments_lexer": "ipython3",
   "version": "3.10.12"
  }
 },
 "nbformat": 4,
 "nbformat_minor": 1
}
