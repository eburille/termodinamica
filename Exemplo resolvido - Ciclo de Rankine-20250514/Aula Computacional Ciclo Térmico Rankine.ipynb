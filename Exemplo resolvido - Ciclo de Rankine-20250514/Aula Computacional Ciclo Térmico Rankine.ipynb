{
 "cells": [
  {
   "cell_type": "markdown",
   "metadata": {},
   "source": [
    "## ENG07086 - Termodinâmica e Transferência de Calor\n",
    "### Exercício Computacional 2 (Unidade 4)- Ciclo Térmico com Reaquecimento"
   ]
  },
  {
   "cell_type": "markdown",
   "metadata": {},
   "source": [
    "#### Um ciclo de Rankine utiliza água como fluido de trabalho. O vapor deixa a caldeira e entra na turbina a 10 bar e 400°C. O vapor passa então pela turbina, expandindo até a pressão atmosférica. A instalação está esquematizada no diagrama abaixo. Determine o rendimento do ciclo.\n",
    "\n",
    "<img src=\"Imagem Ciclo sem Reaquecimento.png\">\n",
    "Ciclo de Rankine\n"
   ]
  },
  {
   "cell_type": "code",
   "execution_count": 73,
   "metadata": {},
   "outputs": [],
   "source": [
    "# Carregando os pacotes do Python\n",
    "import numpy as np"
   ]
  },
  {
   "cell_type": "code",
   "execution_count": 74,
   "metadata": {},
   "outputs": [],
   "source": [
    "# Importando as bibliotecas do CoolProp\n",
    "import CoolProp as CP\n",
    "from CoolProp.CoolProp import PropsSI\n",
    "# Selecionando o fluido\n",
    "fluido = 'Water'"
   ]
  },
  {
   "cell_type": "code",
   "execution_count": 75,
   "metadata": {},
   "outputs": [],
   "source": [
    "# Informações do ciclo:\n",
    "P3 = 10. # bar, pressão na saída da caldeira\n",
    "T3 = 400 # °C, temperatura na saída da caldeira\n",
    "P4 = 1. # bar, pressão na saída do primeiro estágio da turbina"
   ]
  },
  {
   "cell_type": "code",
   "execution_count": null,
   "metadata": {},
   "outputs": [],
   "source": []
  },
  {
   "cell_type": "code",
   "execution_count": 76,
   "metadata": {},
   "outputs": [],
   "source": [
    "def pegapropriedades(Pressure = None, Temperature = None, Fluido = None):\n",
    "    \n",
    "    # Importando as bibliotecas do CoolProp\n",
    "    # import CoolProp as CP\n",
    "    # from CoolProp.CoolProp import PropsSI\n",
    "    \n",
    "    # Rotina para extrair informações do estado\n",
    "    # Pressão de entrada em bar, temperatura de entrada em ºC\n",
    "    # Entalpia e entropia em kJ/kg\n",
    "    \n",
    "    if not Temperature: # Fluido saturado - um grau de liberdade\n",
    "        T = PropsSI('T', 'P', Pressure*1e5, 'Q', 0, Fluido)\n",
    "        temperature = T\n",
    "        slat = PropsSI('S', 'P', Pressure*1e5, 'Q', 0, Fluido) / 1000 # entropia do liquido saturado em kJ/kg/K\n",
    "        svat = PropsSI('S', 'P', Pressure*1e5, 'Q', 1, Fluido) / 1000 # entropia do vapor saturado em kJ/kg/K\n",
    "        entropy = [slat, svat]\n",
    "\n",
    "        hlat = PropsSI('H', 'P', Pressure*1e5, 'Q', 0, Fluido) / 1000 # entalpia do liquido saturado em kJ/kg\n",
    "        hvat = PropsSI('H', 'P', Pressure*1e5, 'Q', 1, Fluido) / 1000 # entalpia do vapor saturado em kJ/kg\n",
    "\n",
    "        enthalpy = [hlat, hvat]\n",
    "    \n",
    "    else:\n",
    "        temperature = Temperature + 273.15\n",
    "        entropy = PropsSI('S', 'P', Pressure*1e5, 'T', temperature, Fluido)/1000. #kJ/kg/K\n",
    "        enthalpy = PropsSI('H', 'P', Pressure*1e5, 'T', temperature, Fluido)/1000. #kJ/kg\n",
    "\n",
    "    return enthalpy, entropy, temperature "
   ]
  },
  {
   "cell_type": "markdown",
   "metadata": {},
   "source": [
    "### Determinação dos estados intermediários no ciclo"
   ]
  },
  {
   "cell_type": "code",
   "execution_count": 77,
   "metadata": {},
   "outputs": [
    {
     "name": "stdout",
     "output_type": "stream",
     "text": [
      "XXX Ponto 3\n",
      "Temperature 400.00 ºC\n",
      "Pressao 10.00 bar\n",
      "Entalpia específica 3264.47 kJ/kg\n",
      "Entropia específica 7.47 kJ/kg/K\n"
     ]
    }
   ],
   "source": [
    "# Ponto 3\n",
    "[h3, s3, T3K] = pegapropriedades(P3, T3, fluido)\n",
    "print('XXX Ponto 3')\n",
    "print(f'Temperature {T3K-273.15:0.2f} ºC')\n",
    "print(f'Pressao {P3:0.2f} bar')\n",
    "print(f'Entalpia específica {h3:0.2f} kJ/kg')\n",
    "print(f'Entropia específica {s3:0.2f} kJ/kg/K')\n",
    "\n"
   ]
  },
  {
   "cell_type": "code",
   "execution_count": 78,
   "metadata": {},
   "outputs": [
    {
     "name": "stdout",
     "output_type": "stream",
     "text": [
      "Fração vaporizada no ponto 4 maior que 1\n",
      "Teclado não reconhecido. Pressione qualquer tecla para proseeguir\n",
      "XXX Ponto 4\n",
      "Temperature 99.61 ºC\n",
      "Pressao 1.00 bar\n",
      "Entalpia específica 2716.32 kJ/kg\n",
      "Entropia específica 7.47 kJ/kg/K\n"
     ]
    }
   ],
   "source": [
    "# Ponto 4\n",
    "\n",
    "h4sat, s4sat, T4K = pegapropriedades(Pressure=P4, Fluido=fluido)\n",
    "s4 = s3\n",
    "beta4 = (s4 - s4sat[0]) / (s4sat[1] - s4sat[0])\n",
    "if beta4 > 1:\n",
    "    print('Fração vaporizada no ponto 4 maior que 1')\n",
    "    print('Teclado não reconhecido. Pressione qualquer tecla para proseeguir')\n",
    "    h4 = PropsSI('H', 'P', P4*1e5, 'S', s4*1000, fluido)/1000. # kJ/kg\n",
    "else:\n",
    "    h4 = (1.0 - beta4)*h4sat[0] + beta4*h4sat[1]\n",
    "print('XXX Ponto 4')\n",
    "print(f'Temperature {T4K-273.15:0.2f} ºC')\n",
    "print(f'Pressao {P4:0.2f} bar')\n",
    "print(f'Entalpia específica {h4:0.2f} kJ/kg')\n",
    "print(f'Entropia específica {s4:0.2f} kJ/kg/K')\n",
    "\n",
    "\n"
   ]
  },
  {
   "cell_type": "code",
   "execution_count": 79,
   "metadata": {},
   "outputs": [
    {
     "name": "stdout",
     "output_type": "stream",
     "text": [
      "Trabalho específico total gerado pela turbina: 548.16 kJ/kg\n"
     ]
    }
   ],
   "source": [
    "# Cálculo do trabalho total produzido pela turbina\n",
    "wt = (h4 - h3)\n",
    "print(\"Trabalho específico total gerado pela turbina: \" + str(round(abs(wt),2)) + \" kJ/kg\")"
   ]
  },
  {
   "cell_type": "code",
   "execution_count": 80,
   "metadata": {},
   "outputs": [
    {
     "name": "stdout",
     "output_type": "stream",
     "text": [
      "XXX Ponto 1\n",
      "Pressao 1.00 bar\n",
      "Entalpia específica 417.50 kJ/kg\n",
      "Entropia específica 1.30 kJ/kg/K\n"
     ]
    }
   ],
   "source": [
    "# Ponto 1 (Líquido saturado)\n",
    "P1 = P4\n",
    "d1 = PropsSI('D', 'P', P1*1e5, 'Q', 0, fluido) # kg/m³\n",
    "h1 = PropsSI('H', 'P', P1*1e5, 'Q', 0, fluido)/1000 # kJ/kg\n",
    "s1 = PropsSI('S', 'P', P1*1e5, 'Q', 0, fluido)/1000 # kJ/kg/K\n",
    "\n",
    "print('XXX Ponto 1')\n",
    "print(f'Pressao {P1:0.2f} bar')\n",
    "print(f'Entalpia específica {h1:0.2f} kJ/kg')\n",
    "print(f'Entropia específica {s1:0.2f} kJ/kg/K')\n"
   ]
  },
  {
   "cell_type": "code",
   "execution_count": 81,
   "metadata": {},
   "outputs": [
    {
     "name": "stdout",
     "output_type": "stream",
     "text": [
      "XXX Ponto 2\n",
      "Pressao 10.00 bar\n",
      "Entalpia específica 418.44 kJ/kg\n",
      "Entropia específica 1302.76 kJ/kg/K\n"
     ]
    }
   ],
   "source": [
    "# Ponto 2\n",
    "\n",
    "P2 = P3\n",
    "s2 = s1\n",
    "\n",
    "h2 = PropsSI('H', 'P', P2*1e5, 'S', s2*1000, fluido)/1000. # kJ/kg\n",
    "s2 = PropsSI('S', 'P', P2*1e5, 'S', s2*1000, fluido) # kJ/kg/K\n",
    "\n",
    "print('XXX Ponto 2')\n",
    "print(f'Pressao {P2:0.2f} bar')\n",
    "print(f'Entalpia específica {h2:0.2f} kJ/kg')\n",
    "print(f'Entropia específica {s2:0.2f} kJ/kg/K')\n"
   ]
  },
  {
   "cell_type": "code",
   "execution_count": 82,
   "metadata": {},
   "outputs": [
    {
     "name": "stdout",
     "output_type": "stream",
     "text": [
      "Trabalho da bomba: 0.94 kJ/kg\n",
      "Compare com o método simplificado: 0.94 kJ/kg\n"
     ]
    }
   ],
   "source": [
    "# Cálculo do trabalho da bomba\n",
    "wb = h2 - h1\n",
    "print(\"Trabalho da bomba: \" + str(round(wb,2)) + \" kJ/kg\")\n",
    "print(\"Compare com o método simplificado: \" + str(round((P2 - P1)/d1*1e2,2)) + \" kJ/kg\")"
   ]
  },
  {
   "cell_type": "code",
   "execution_count": 83,
   "metadata": {},
   "outputs": [
    {
     "name": "stdout",
     "output_type": "stream",
     "text": [
      "Trabalho específico líquido produzido pelo ciclo: 547.22 kJ/kg\n",
      "Calor absorvido pelo ciclo na caldeira: 2846.03 kJ/kg\n",
      "Rendimendo percentual do ciclo: 19.23%\n"
     ]
    }
   ],
   "source": [
    "# Cálculos do trabalho líquido e rendimento\n",
    "wliq = abs(wt) - abs(wb)\n",
    "print(\"Trabalho específico líquido produzido pelo ciclo: \" + str(round(wliq,2)) + \" kJ/kg\")\n",
    "qq = h3 - h2\n",
    "print(\"Calor absorvido pelo ciclo na caldeira: \" + str(round(qq,2)) + \" kJ/kg\")\n",
    "rend = wliq/qq\n",
    "print(\"Rendimendo percentual do ciclo: \" + str(round(100*rend,2)) + \"%\")"
   ]
  },
  {
   "cell_type": "markdown",
   "metadata": {},
   "source": [
    "### Resolvendo agora iterativamente para um arquivo de dados"
   ]
  },
  {
   "cell_type": "code",
   "execution_count": 84,
   "metadata": {},
   "outputs": [],
   "source": [
    "# Definindo a função de rendimento\n"
   ]
  },
  {
   "cell_type": "code",
   "execution_count": 85,
   "metadata": {},
   "outputs": [
    {
     "ename": "ModuleNotFoundError",
     "evalue": "No module named 'pandas'",
     "output_type": "error",
     "traceback": [
      "\u001b[0;31m---------------------------------------------------------------------------\u001b[0m",
      "\u001b[0;31mModuleNotFoundError\u001b[0m                       Traceback (most recent call last)",
      "Cell \u001b[0;32mIn[85], line 2\u001b[0m\n\u001b[1;32m      1\u001b[0m \u001b[38;5;66;03m# Carregando aquivos de dados\u001b[39;00m\n\u001b[0;32m----> 2\u001b[0m \u001b[38;5;28;01mimport\u001b[39;00m\u001b[38;5;250m \u001b[39m\u001b[38;5;21;01mpandas\u001b[39;00m\u001b[38;5;250m \u001b[39m\u001b[38;5;28;01mas\u001b[39;00m\u001b[38;5;250m \u001b[39m\u001b[38;5;21;01mpd\u001b[39;00m\n",
      "\u001b[0;31mModuleNotFoundError\u001b[0m: No module named 'pandas'"
     ]
    }
   ],
   "source": [
    "# Carregando aquivos de dados\n",
    "import pandas as pd\n"
   ]
  },
  {
   "cell_type": "code",
   "execution_count": null,
   "metadata": {},
   "outputs": [],
   "source": [
    "# Rodando função de rendimento para o dataset\n"
   ]
  },
  {
   "cell_type": "code",
   "execution_count": null,
   "metadata": {},
   "outputs": [],
   "source": [
    "from matplotlib import pyplot as plt\n",
    "%matplotlib inline\n",
    "plt.figure(num=None,figsize=(12,8),facecolor='w',edgecolor='k')\n",
    "plt.plot(rend[1:-1],marker='o',markersize = 2)\n",
    "plt.show()"
   ]
  },
  {
   "cell_type": "code",
   "execution_count": null,
   "metadata": {},
   "outputs": [],
   "source": [
    "# Criando um dashboard simples\n",
    "import plotly.graph_objects as go\n",
    "import plotly.express as px\n",
    "\n",
    "# Create traces\n",
    "fig = go.Figure()\n",
    "# Plotando\n",
    "fig.update_layout(title='Eficiência do ciclo',xaxis_range=[0,99], yaxis_range=[0.24,0.25])\n",
    "# Ponto de operação atual\n"
   ]
  },
  {
   "cell_type": "code",
   "execution_count": null,
   "metadata": {},
   "outputs": [],
   "source": [
    "# Gera o Dash\n"
   ]
  }
 ],
 "metadata": {
  "kernelspec": {
   "display_name": "Python 3 (ipykernel)",
   "language": "python",
   "name": "python3"
  },
  "language_info": {
   "codemirror_mode": {
    "name": "ipython",
    "version": 3
   },
   "file_extension": ".py",
   "mimetype": "text/x-python",
   "name": "python",
   "nbconvert_exporter": "python",
   "pygments_lexer": "ipython3",
   "version": "3.10.12"
  }
 },
 "nbformat": 4,
 "nbformat_minor": 1
}
