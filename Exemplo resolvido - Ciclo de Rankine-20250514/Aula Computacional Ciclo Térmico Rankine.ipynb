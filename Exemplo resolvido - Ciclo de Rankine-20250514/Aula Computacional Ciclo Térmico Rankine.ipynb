{
 "cells": [
  {
   "cell_type": "markdown",
   "metadata": {},
   "source": [
    "## ENG07086 - Termodinâmica e Transferência de Calor\n",
    "### Exercício Computacional 2 (Unidade 4)- Ciclo Térmico com Reaquecimento"
   ]
  },
  {
   "cell_type": "markdown",
   "metadata": {},
   "source": [
    "#### Um ciclo de Rankine utiliza água como fluido de trabalho. O vapor deixa a caldeira e entra na turbina a 10 bar e 400°C. O vapor passa então pela turbina, expandindo até a pressão atmosférica. A instalação está esquematizada no diagrama abaixo. Determine o rendimento do ciclo.\n",
    "\n",
    "<img src=\"Imagem Ciclo sem Reaquecimento.png\">\n",
    "Ciclo de Rankine\n"
   ]
  },
  {
   "cell_type": "code",
   "execution_count": 1,
   "metadata": {},
   "outputs": [],
   "source": [
    "# Carregando os pacotes do Python\n",
    "import numpy as np"
   ]
  },
  {
   "cell_type": "code",
   "execution_count": 2,
   "metadata": {},
   "outputs": [],
   "source": [
    "# Importando as bibliotecas do CoolProp\n",
    "import CoolProp as CP\n",
    "from CoolProp.CoolProp import PropsSI\n",
    "# Selecionando o fluido\n",
    "fluido = 'Water'"
   ]
  },
  {
   "cell_type": "code",
   "execution_count": 3,
   "metadata": {},
   "outputs": [],
   "source": [
    "# Informações do ciclo:\n",
    "P3 = 10. # bar, pressão na saída da caldeira\n",
    "T3 = 400 # °C, temperatura na saída da caldeira\n",
    "P4 = 1. # bar, pressão na saída do primeiro estágio da turbina"
   ]
  },
  {
   "cell_type": "code",
   "execution_count": null,
   "metadata": {},
   "outputs": [],
   "source": []
  },
  {
   "cell_type": "code",
   "execution_count": 4,
   "metadata": {},
   "outputs": [],
   "source": [
    "def pegapropriedades(Pressure = None, Temperature = None, Fluido = None):\n",
    "    \n",
    "    # Importando as bibliotecas do CoolProp\n",
    "    # import CoolProp as CP\n",
    "    # from CoolProp.CoolProp import PropsSI\n",
    "    \n",
    "    # Rotina para extrair informações do estado\n",
    "    # Pressão de entrada em bar, temperatura de entrada em ºC\n",
    "    # Entalpia e entropia em kJ/kg\n",
    "    \n",
    "    if not Temperature: # Fluido saturado - um grau de liberdade\n",
    "        T = PropsSI('T', 'P', Pressure*1e5, 'Q', 0, Fluido)\n",
    "        temperature = T\n",
    "        slat = PropsSI('S', 'P', Pressure*1e5, 'Q', 0, Fluido) / 1000 # entropia do liquido saturado em kJ/kg/K\n",
    "        svat = PropsSI('S', 'P', Pressure*1e5, 'Q', 1, Fluido) / 1000 # entropia do vapor saturado em kJ/kg/K\n",
    "        entropy = [slat, svat]\n",
    "\n",
    "        hlat = PropsSI('H', 'P', Pressure*1e5, 'Q', 0, Fluido) / 1000 # entalpia do liquido saturado em kJ/kg\n",
    "        hvat = PropsSI('H', 'P', Pressure*1e5, 'Q', 1, Fluido) / 1000 # entalpia do vapor saturado em kJ/kg\n",
    "\n",
    "        enthalpy = [hlat, hvat]\n",
    "    \n",
    "    else:\n",
    "        temperature = Temperature + 273.15\n",
    "        entropy = PropsSI('S', 'P', Pressure*1e5, 'T', temperature, Fluido)/1000. #kJ/kg/K\n",
    "        enthalpy = PropsSI('H', 'P', Pressure*1e5, 'T', temperature, Fluido)/1000. #kJ/kg\n",
    "\n",
    "    return enthalpy, entropy, temperature "
   ]
  },
  {
   "cell_type": "markdown",
   "metadata": {},
   "source": [
    "### Determinação dos estados intermediários no ciclo"
   ]
  },
  {
   "cell_type": "code",
   "execution_count": 5,
   "metadata": {},
   "outputs": [
    {
     "name": "stdout",
     "output_type": "stream",
     "text": [
      "XXX Ponto 3\n",
      "Temperature 400.00 ºC\n",
      "Pressao 10.00 bar\n",
      "Entalpia específica 3264.47 kJ/kg\n",
      "Entropia específica 7.47 kJ/kg/K\n"
     ]
    }
   ],
   "source": [
    "# Ponto 3\n",
    "[h3, s3, T3K] = pegapropriedades(P3, T3, fluido)\n",
    "print('XXX Ponto 3')\n",
    "print(f'Temperature {T3K-273.15:0.2f} ºC')\n",
    "print(f'Pressao {P3:0.2f} bar')\n",
    "print(f'Entalpia específica {h3:0.2f} kJ/kg')\n",
    "print(f'Entropia específica {s3:0.2f} kJ/kg/K')\n",
    "\n"
   ]
  },
  {
   "cell_type": "code",
   "execution_count": 6,
   "metadata": {},
   "outputs": [
    {
     "name": "stdout",
     "output_type": "stream",
     "text": [
      "Fração vaporizada no ponto 4 maior que 1\n",
      "Teclado não reconhecido. Pressione qualquer tecla para proseeguir\n",
      "XXX Ponto 4\n",
      "Temperature 99.61 ºC\n",
      "Pressao 1.00 bar\n",
      "Entalpia específica 2716.32 kJ/kg\n",
      "Entropia específica 7.47 kJ/kg/K\n"
     ]
    }
   ],
   "source": [
    "# Ponto 4\n",
    "\n",
    "h4sat, s4sat, T4K = pegapropriedades(Pressure=P4, Fluido=fluido)\n",
    "s4 = s3\n",
    "beta4 = (s4 - s4sat[0]) / (s4sat[1] - s4sat[0])\n",
    "if beta4 > 1:\n",
    "    print('Fração vaporizada no ponto 4 maior que 1')\n",
    "    print('Teclado não reconhecido. Pressione qualquer tecla para proseeguir')\n",
    "    h4 = PropsSI('H', 'P', P4*1e5, 'S', s4*1000, fluido)/1000. # kJ/kg\n",
    "else:\n",
    "    h4 = (1.0 - beta4)*h4sat[0] + beta4*h4sat[1]\n",
    "print('XXX Ponto 4')\n",
    "print(f'Temperature {T4K-273.15:0.2f} ºC')\n",
    "print(f'Pressao {P4:0.2f} bar')\n",
    "print(f'Entalpia específica {h4:0.2f} kJ/kg')\n",
    "print(f'Entropia específica {s4:0.2f} kJ/kg/K')\n",
    "\n",
    "\n"
   ]
  },
  {
   "cell_type": "code",
   "execution_count": 7,
   "metadata": {},
   "outputs": [
    {
     "name": "stdout",
     "output_type": "stream",
     "text": [
      "Trabalho específico total gerado pela turbina: 548.16 kJ/kg\n"
     ]
    }
   ],
   "source": [
    "# Cálculo do trabalho total produzido pela turbina\n",
    "wt = (h4 - h3)\n",
    "print(\"Trabalho específico total gerado pela turbina: \" + str(round(abs(wt),2)) + \" kJ/kg\")"
   ]
  },
  {
   "cell_type": "code",
   "execution_count": 8,
   "metadata": {},
   "outputs": [
    {
     "name": "stdout",
     "output_type": "stream",
     "text": [
      "XXX Ponto 1\n",
      "Pressao 1.00 bar\n",
      "Entalpia específica 417.50 kJ/kg\n",
      "Entropia específica 1.30 kJ/kg/K\n"
     ]
    }
   ],
   "source": [
    "# Ponto 1 (Líquido saturado)\n",
    "P1 = P4\n",
    "d1 = PropsSI('D', 'P', P1*1e5, 'Q', 0, fluido) # kg/m³\n",
    "h1 = PropsSI('H', 'P', P1*1e5, 'Q', 0, fluido)/1000 # kJ/kg\n",
    "s1 = PropsSI('S', 'P', P1*1e5, 'Q', 0, fluido)/1000 # kJ/kg/K\n",
    "\n",
    "print('XXX Ponto 1')\n",
    "print(f'Pressao {P1:0.2f} bar')\n",
    "print(f'Entalpia específica {h1:0.2f} kJ/kg')\n",
    "print(f'Entropia específica {s1:0.2f} kJ/kg/K')\n"
   ]
  },
  {
   "cell_type": "code",
   "execution_count": 9,
   "metadata": {},
   "outputs": [
    {
     "name": "stdout",
     "output_type": "stream",
     "text": [
      "XXX Ponto 2\n",
      "Pressao 10.00 bar\n",
      "Entalpia específica 418.44 kJ/kg\n",
      "Entropia específica 1302.76 kJ/kg/K\n"
     ]
    }
   ],
   "source": [
    "# Ponto 2\n",
    "\n",
    "P2 = P3\n",
    "s2 = s1\n",
    "\n",
    "h2 = PropsSI('H', 'P', P2*1e5, 'S', s2*1000, fluido)/1000. # kJ/kg\n",
    "s2 = PropsSI('S', 'P', P2*1e5, 'S', s2*1000, fluido) # kJ/kg/K\n",
    "\n",
    "print('XXX Ponto 2')\n",
    "print(f'Pressao {P2:0.2f} bar')\n",
    "print(f'Entalpia específica {h2:0.2f} kJ/kg')\n",
    "print(f'Entropia específica {s2:0.2f} kJ/kg/K')\n"
   ]
  },
  {
   "cell_type": "code",
   "execution_count": 10,
   "metadata": {},
   "outputs": [
    {
     "name": "stdout",
     "output_type": "stream",
     "text": [
      "Trabalho da bomba: 0.94 kJ/kg\n",
      "Compare com o método simplificado: 0.94 kJ/kg\n"
     ]
    }
   ],
   "source": [
    "# Cálculo do trabalho da bomba\n",
    "wb = h2 - h1\n",
    "print(\"Trabalho da bomba: \" + str(round(wb,2)) + \" kJ/kg\")\n",
    "print(\"Compare com o método simplificado: \" + str(round((P2 - P1)/d1*1e2,2)) + \" kJ/kg\")"
   ]
  },
  {
   "cell_type": "code",
   "execution_count": 11,
   "metadata": {},
   "outputs": [
    {
     "name": "stdout",
     "output_type": "stream",
     "text": [
      "Trabalho específico líquido produzido pelo ciclo: 547.22 kJ/kg\n",
      "Calor absorvido pelo ciclo na caldeira: 2846.03 kJ/kg\n",
      "Rendimendo percentual do ciclo: 19.23%\n"
     ]
    }
   ],
   "source": [
    "# Cálculos do trabalho líquido e rendimento\n",
    "wliq = abs(wt) - abs(wb)\n",
    "print(\"Trabalho específico líquido produzido pelo ciclo: \" + str(round(wliq,2)) + \" kJ/kg\")\n",
    "qq = h3 - h2\n",
    "print(\"Calor absorvido pelo ciclo na caldeira: \" + str(round(qq,2)) + \" kJ/kg\")\n",
    "rend = wliq/qq\n",
    "print(\"Rendimendo percentual do ciclo: \" + str(round(100*rend,2)) + \"%\")"
   ]
  },
  {
   "cell_type": "markdown",
   "metadata": {},
   "source": [
    "### Resolvendo agora iterativamente para um arquivo de dados"
   ]
  },
  {
   "cell_type": "code",
   "execution_count": 12,
   "metadata": {},
   "outputs": [],
   "source": [
    "# Definindo a função de rendimento\n",
    "def rendimento(P3, T3, P1):\n",
    "    \n",
    "    # Importando as bibliotecas do CoolProp\n",
    "    import CoolProp as CP\n",
    "    from CoolProp.CoolProp import PropsSI\n",
    "    # Selecionando o fluido\n",
    "    fluido = 'Water'\n",
    "    # Carregando os pacotes do Python\n",
    "    import numpy as np\n",
    "    \n",
    "    # Ponto 3\n",
    "    [h3, s3, T3k] = pegapropriedades(Pressure = P3, Temperature = T3, Fluido = fluido)\n",
    "    # Ponto 4\n",
    "    [h4sat, s4sat, T4K] = pegapropriedades(Pressure = P4, Fluido = fluido)\n",
    "    s4 = s3\n",
    "    beta4 = (s4 - s4sat[0])/(s4sat[1] - s4sat[0])\n",
    "    if beta4 > 1.0:\n",
    "        h4 = PropsSI('H', 'P', P4*1e5, 'S', s4*1000, fluido)/1000.\n",
    "    else:\n",
    "        h4 = (1.-beta4)*h4sat[0] + beta4*h4sat[1]\n",
    "    P1 = P4\n",
    "    # Ponto 1\n",
    "    d1 = PropsSI('D','P',1e5*P1,'Q',0,fluido) # em kg/m^3\n",
    "    h1 = PropsSI('H','P',1e5*P1,'Q',0,fluido)/1000. # em kJ/kg\n",
    "    s1 = PropsSI('S','P',1e5*P1,'Q',0,fluido)/1000. # em kJ/kg/K\n",
    "    # Ponto 2\n",
    "    P2 = P3\n",
    "    h2 = PropsSI('H','P',1e5*P2,'S',s1*1e3,fluido)/1000. # em kJ/kg\n",
    "    # Cálculo do trabalho da bomba\n",
    "    wb = h2 - h1\n",
    "    # Cálculo do trabalho total produzido pela turbina\n",
    "    wt = (h4 - h3)\n",
    "        # Cálculos do trabalho líquido e rendimento\n",
    "    wliq = abs(wt) - abs(wb)\n",
    "    qq = (h3 - h2)\n",
    "    rend = wliq/qq\n",
    "    \n",
    "    return rend"
   ]
  },
  {
   "cell_type": "code",
   "execution_count": 13,
   "metadata": {},
   "outputs": [
    {
     "data": {
      "text/html": [
       "<div>\n",
       "<style scoped>\n",
       "    .dataframe tbody tr th:only-of-type {\n",
       "        vertical-align: middle;\n",
       "    }\n",
       "\n",
       "    .dataframe tbody tr th {\n",
       "        vertical-align: top;\n",
       "    }\n",
       "\n",
       "    .dataframe thead th {\n",
       "        text-align: right;\n",
       "    }\n",
       "</style>\n",
       "<table border=\"1\" class=\"dataframe\">\n",
       "  <thead>\n",
       "    <tr style=\"text-align: right;\">\n",
       "      <th></th>\n",
       "      <th>Time</th>\n",
       "      <th>P3</th>\n",
       "      <th>T3</th>\n",
       "      <th>P1</th>\n",
       "    </tr>\n",
       "  </thead>\n",
       "  <tbody>\n",
       "    <tr>\n",
       "      <th>0</th>\n",
       "      <td>dd:mm:aaaa hh:mm</td>\n",
       "      <td>bar</td>\n",
       "      <td>degC</td>\n",
       "      <td>bar</td>\n",
       "    </tr>\n",
       "    <tr>\n",
       "      <th>1</th>\n",
       "      <td>14/05/2025 14:30:00</td>\n",
       "      <td>29.77696395</td>\n",
       "      <td>350.8476591</td>\n",
       "      <td>1.033670486</td>\n",
       "    </tr>\n",
       "    <tr>\n",
       "      <th>2</th>\n",
       "      <td>14/05/2025 14:31:00</td>\n",
       "      <td>30.16273006</td>\n",
       "      <td>349.112365</td>\n",
       "      <td>1.046585678</td>\n",
       "    </tr>\n",
       "    <tr>\n",
       "      <th>3</th>\n",
       "      <td>14/05/2025 14:32:00</td>\n",
       "      <td>30.21785737</td>\n",
       "      <td>349.1427577</td>\n",
       "      <td>1.047729534</td>\n",
       "    </tr>\n",
       "    <tr>\n",
       "      <th>4</th>\n",
       "      <td>14/05/2025 14:33:00</td>\n",
       "      <td>30.16557092</td>\n",
       "      <td>349.9487793</td>\n",
       "      <td>0.976299855</td>\n",
       "    </tr>\n",
       "  </tbody>\n",
       "</table>\n",
       "</div>"
      ],
      "text/plain": [
       "                  Time           P3           T3           P1\n",
       "0     dd:mm:aaaa hh:mm          bar         degC          bar\n",
       "1  14/05/2025 14:30:00  29.77696395  350.8476591  1.033670486\n",
       "2  14/05/2025 14:31:00  30.16273006   349.112365  1.046585678\n",
       "3  14/05/2025 14:32:00  30.21785737  349.1427577  1.047729534\n",
       "4  14/05/2025 14:33:00  30.16557092  349.9487793  0.976299855"
      ]
     },
     "execution_count": 13,
     "metadata": {},
     "output_type": "execute_result"
    }
   ],
   "source": [
    "# Carregando aquivos de dados\n",
    "import pandas as pd\n",
    "dados = pd.read_csv('dataset_ciclo_Rankine.csv', sep=';', encoding='latin1')\n",
    "\n",
    "list(dados.columns)\n",
    "dados.head()"
   ]
  },
  {
   "cell_type": "code",
   "execution_count": 14,
   "metadata": {},
   "outputs": [
    {
     "name": "stderr",
     "output_type": "stream",
     "text": [
      "/tmp/ipykernel_4222/79757427.py:11: FutureWarning: Setting an item of incompatible dtype is deprecated and will raise an error in a future version of pandas. Value '' has dtype incompatible with float64, please explicitly cast to a compatible dtype first.\n",
      "  dados_rend.loc[0, \"Rendimento\"] = ''\n"
     ]
    }
   ],
   "source": [
    "# Rodando função de rendimento para o dataset\n",
    "rend = np.zeros(len(dados.P3))\n",
    "for i in range(1, len(rend)-1):\n",
    "    P3 = float(dados['P3'][i])\n",
    "    T3 = float(dados['T3'][i])\n",
    "    P1 = float(dados['P1'][i])\n",
    "    rend[i] = rendimento(P3, T3, P1)\n",
    "\n",
    "dados_rend = dados\n",
    "dados_rend['Rendimento'] = rend\n",
    "dados_rend.loc[0, \"Rendimento\"] = ''"
   ]
  },
  {
   "cell_type": "code",
   "execution_count": 15,
   "metadata": {},
   "outputs": [
    {
     "data": {
      "image/png": "[encoded data removed]",
      "text/plain": [
       "<Figure size 1200x800 with 1 Axes>"
      ]
     },
     "metadata": {},
     "output_type": "display_data"
    }
   ],
   "source": [
    "from matplotlib import pyplot as plt\n",
    "%matplotlib inline\n",
    "plt.figure(num=None,figsize=(12,8),facecolor='w',edgecolor='k')\n",
    "plt.plot(rend[1:-1],marker='o',markersize = 2)\n",
    "plt.show()"
   ]
  },
  {
   "cell_type": "code",
   "execution_count": 16,
   "metadata": {},
   "outputs": [
    {
     "ename": "ValueError",
     "evalue": "Mime type rendering requires nbformat>=4.2.0 but it is not installed",
     "output_type": "error",
     "traceback": [
      "\u001b[0;31m---------------------------------------------------------------------------\u001b[0m",
      "\u001b[0;31mValueError\u001b[0m                                Traceback (most recent call last)",
      "File \u001b[0;32m~/Documentos/termo/vTermodinamica/lib/python3.10/site-packages/IPython/core/formatters.py:984\u001b[0m, in \u001b[0;36mIPythonDisplayFormatter.__call__\u001b[0;34m(self, obj)\u001b[0m\n\u001b[1;32m    982\u001b[0m method \u001b[38;5;241m=\u001b[39m get_real_method(obj, \u001b[38;5;28mself\u001b[39m\u001b[38;5;241m.\u001b[39mprint_method)\n\u001b[1;32m    983\u001b[0m \u001b[38;5;28;01mif\u001b[39;00m method \u001b[38;5;129;01mis\u001b[39;00m \u001b[38;5;129;01mnot\u001b[39;00m \u001b[38;5;28;01mNone\u001b[39;00m:\n\u001b[0;32m--> 984\u001b[0m     \u001b[43mmethod\u001b[49m\u001b[43m(\u001b[49m\u001b[43m)\u001b[49m\n\u001b[1;32m    985\u001b[0m     \u001b[38;5;28;01mreturn\u001b[39;00m \u001b[38;5;28;01mTrue\u001b[39;00m\n",
      "File \u001b[0;32m~/Documentos/termo/vTermodinamica/lib/python3.10/site-packages/plotly/basedatatypes.py:833\u001b[0m, in \u001b[0;36mBaseFigure._ipython_display_\u001b[0;34m(self)\u001b[0m\n\u001b[1;32m    830\u001b[0m \u001b[38;5;28;01mimport\u001b[39;00m\u001b[38;5;250m \u001b[39m\u001b[38;5;21;01mplotly\u001b[39;00m\u001b[38;5;21;01m.\u001b[39;00m\u001b[38;5;21;01mio\u001b[39;00m\u001b[38;5;250m \u001b[39m\u001b[38;5;28;01mas\u001b[39;00m\u001b[38;5;250m \u001b[39m\u001b[38;5;21;01mpio\u001b[39;00m\n\u001b[1;32m    832\u001b[0m \u001b[38;5;28;01mif\u001b[39;00m pio\u001b[38;5;241m.\u001b[39mrenderers\u001b[38;5;241m.\u001b[39mrender_on_display \u001b[38;5;129;01mand\u001b[39;00m pio\u001b[38;5;241m.\u001b[39mrenderers\u001b[38;5;241m.\u001b[39mdefault:\n\u001b[0;32m--> 833\u001b[0m     \u001b[43mpio\u001b[49m\u001b[38;5;241;43m.\u001b[39;49m\u001b[43mshow\u001b[49m\u001b[43m(\u001b[49m\u001b[38;5;28;43mself\u001b[39;49m\u001b[43m)\u001b[49m\n\u001b[1;32m    834\u001b[0m \u001b[38;5;28;01melse\u001b[39;00m:\n\u001b[1;32m    835\u001b[0m     \u001b[38;5;28mprint\u001b[39m(\u001b[38;5;28mrepr\u001b[39m(\u001b[38;5;28mself\u001b[39m))\n",
      "File \u001b[0;32m~/Documentos/termo/vTermodinamica/lib/python3.10/site-packages/plotly/io/_renderers.py:425\u001b[0m, in \u001b[0;36mshow\u001b[0;34m(fig, renderer, validate, **kwargs)\u001b[0m\n\u001b[1;32m    420\u001b[0m     \u001b[38;5;28;01mraise\u001b[39;00m \u001b[38;5;167;01mValueError\u001b[39;00m(\n\u001b[1;32m    421\u001b[0m         \u001b[38;5;124m\"\u001b[39m\u001b[38;5;124mMime type rendering requires ipython but it is not installed\u001b[39m\u001b[38;5;124m\"\u001b[39m\n\u001b[1;32m    422\u001b[0m     )\n\u001b[1;32m    424\u001b[0m \u001b[38;5;28;01mif\u001b[39;00m \u001b[38;5;129;01mnot\u001b[39;00m nbformat \u001b[38;5;129;01mor\u001b[39;00m Version(nbformat\u001b[38;5;241m.\u001b[39m__version__) \u001b[38;5;241m<\u001b[39m Version(\u001b[38;5;124m\"\u001b[39m\u001b[38;5;124m4.2.0\u001b[39m\u001b[38;5;124m\"\u001b[39m):\n\u001b[0;32m--> 425\u001b[0m     \u001b[38;5;28;01mraise\u001b[39;00m \u001b[38;5;167;01mValueError\u001b[39;00m(\n\u001b[1;32m    426\u001b[0m         \u001b[38;5;124m\"\u001b[39m\u001b[38;5;124mMime type rendering requires nbformat>=4.2.0 but it is not installed\u001b[39m\u001b[38;5;124m\"\u001b[39m\n\u001b[1;32m    427\u001b[0m     )\n\u001b[1;32m    429\u001b[0m display_jupyter_version_warnings()\n\u001b[1;32m    431\u001b[0m ipython_display\u001b[38;5;241m.\u001b[39mdisplay(bundle, raw\u001b[38;5;241m=\u001b[39m\u001b[38;5;28;01mTrue\u001b[39;00m)\n",
      "\u001b[0;31mValueError\u001b[0m: Mime type rendering requires nbformat>=4.2.0 but it is not installed"
     ]
    },
    {
     "data": {
      "application/vnd.plotly.v1+json": {
       "config": {
        "plotlyServerURL": "https://plot.ly"
       },
       "data": [
        {
         "customdata": [
          "bar",
          "29.77696395",
          "30.16273006",
          "30.21785737",
          "30.16557092",
          "30.23049438",
          "29.75164505",
          "29.79518967",
          "30.0904155",
          "29.84260984",
          "29.98912729",
          "29.86313525",
          "30.0108506",
          "29.96389363",
          "30.06042719",
          "30.03706052",
          "30.14753314",
          "29.84259746",
          "29.96039185",
          "29.9895522",
          "30.05273716",
          "30.14685025",
          "29.97390591",
          "30.14403423",
          "30.06169896",
          "29.8035826",
          "29.85689522",
          "29.78004019",
          "29.98301453",
          "30.02201458",
          "30.09703201",
          "29.82939888",
          "29.8356024",
          "30.19599233",
          "29.82379324",
          "30.14831543",
          "29.86571818",
          "29.90166948",
          "30.1435313",
          "29.88184883",
          "30.02461028",
          "29.98097873",
          "30.2303088",
          "29.8569875",
          "29.81798168",
          "29.97406549",
          "29.79415514",
          "29.9736564",
          "29.98818891",
          "29.91985938",
          "29.95791397",
          "29.87921006",
          "29.92386604",
          "30.14097111",
          "29.96687935",
          "29.8214578",
          "30.14037481",
          "29.85337056",
          "30.06994983",
          "29.81618824",
          "30.22850803",
          "29.87826484",
          "30.235868",
          "30.24829948",
          "29.80895856",
          "29.95985116",
          "30.01146217",
          "30.18127253",
          "29.848579",
          "30.24126541",
          "30.21359422",
          "29.8528547",
          "30.20513027",
          "29.77933716",
          "30.02355516",
          "30.06951029",
          "30.19084166",
          "30.18898838",
          "30.07136217",
          "29.77264641",
          "30.22615611",
          "30.10951623",
          "30.12425549",
          "29.85091124",
          "30.23636732",
          "29.90960951",
          "29.7878335",
          "30.13642538",
          "30.10509337",
          "30.1938402",
          "30.19834435",
          "29.93553265",
          "30.07663148",
          "29.94607562",
          "30.02247603",
          "30.09283692",
          "29.82073092",
          "29.97512316",
          "30.12794103"
         ],
         "hoverinfo": "text",
         "hovertemplate": "Rendimento: %{y:.3f}, P6 =  %{customdata:.3f} bar",
         "marker": {
          "color": "rgba(255, 0, 0, 0.5)",
          "line": {
           "color": "rgba(255, 0, 0, 0.5)",
           "width": 2
          },
          "size": 12,
          "symbol": "diamond"
         },
         "mode": "markers",
         "name": "Rendimento",
         "type": "scatter",
         "x": [
          "dd:mm:aaaa hh:mm",
          "14/05/2025 14:30:00",
          "14/05/2025 14:31:00",
          "14/05/2025 14:32:00",
          "14/05/2025 14:33:00",
          "14/05/2025 14:34:00",
          "14/05/2025 14:35:00",
          "14/05/2025 14:36:00",
          "14/05/2025 14:37:00",
          "14/05/2025 14:38:00",
          "14/05/2025 14:39:00",
          "14/05/2025 14:40:00",
          "14/05/2025 14:41:00",
          "14/05/2025 14:42:00",
          "14/05/2025 14:43:00",
          "14/05/2025 14:44:00",
          "14/05/2025 14:45:00",
          "14/05/2025 14:46:00",
          "14/05/2025 14:47:00",
          "14/05/2025 14:48:00",
          "14/05/2025 14:49:00",
          "14/05/2025 14:50:00",
          "14/05/2025 14:51:00",
          "14/05/2025 14:52:00",
          "14/05/2025 14:53:00",
          "14/05/2025 14:54:00",
          "14/05/2025 14:55:00",
          "14/05/2025 14:56:00",
          "14/05/2025 14:57:00",
          "14/05/2025 14:58:00",
          "14/05/2025 14:59:00",
          "14/05/2025 15:00:00",
          "14/05/2025 15:01:00",
          "14/05/2025 15:02:00",
          "14/05/2025 15:03:00",
          "14/05/2025 15:04:00",
          "14/05/2025 15:05:00",
          "14/05/2025 15:06:00",
          "14/05/2025 15:07:00",
          "14/05/2025 15:08:00",
          "14/05/2025 15:09:00",
          "14/05/2025 15:10:00",
          "14/05/2025 15:11:00",
          "14/05/2025 15:12:00",
          "14/05/2025 15:13:00",
          "14/05/2025 15:14:00",
          "14/05/2025 15:15:00",
          "14/05/2025 15:16:00",
          "14/05/2025 15:17:00",
          "14/05/2025 15:18:00",
          "14/05/2025 15:19:00",
          "14/05/2025 15:20:00",
          "14/05/2025 15:21:00",
          "14/05/2025 15:22:00",
          "14/05/2025 15:23:00",
          "14/05/2025 15:24:00",
          "14/05/2025 15:25:00",
          "14/05/2025 15:26:00",
          "14/05/2025 15:27:00",
          "14/05/2025 15:28:00",
          "14/05/2025 15:29:00",
          "14/05/2025 15:30:00",
          "14/05/2025 15:31:00",
          "14/05/2025 15:32:00",
          "14/05/2025 15:33:00",
          "14/05/2025 15:34:00",
          "14/05/2025 15:35:00",
          "14/05/2025 15:36:00",
          "14/05/2025 15:37:00",
          "14/05/2025 15:38:00",
          "14/05/2025 15:39:00",
          "14/05/2025 15:40:00",
          "14/05/2025 15:41:00",
          "14/05/2025 15:42:00",
          "14/05/2025 15:43:00",
          "14/05/2025 15:44:00",
          "14/05/2025 15:45:00",
          "14/05/2025 15:46:00",
          "14/05/2025 15:47:00",
          "14/05/2025 15:48:00",
          "14/05/2025 15:49:00",
          "14/05/2025 15:50:00",
          "14/05/2025 15:51:00",
          "14/05/2025 15:52:00",
          "14/05/2025 15:53:00",
          "14/05/2025 15:54:00",
          "14/05/2025 15:55:00",
          "14/05/2025 15:56:00",
          "14/05/2025 15:57:00",
          "14/05/2025 15:58:00",
          "14/05/2025 15:59:00",
          "14/05/2025 16:00:00",
          "14/05/2025 16:01:00",
          "14/05/2025 16:02:00",
          "14/05/2025 16:03:00",
          "14/05/2025 16:04:00",
          "14/05/2025 16:05:00",
          "14/05/2025 16:06:00",
          "14/05/2025 16:07:00"
         ],
         "y": [
          "",
          0.2471208224187671,
          0.24760251779952228,
          0.2477081079699895,
          0.24772033299739457,
          0.24788563115977588,
          0.24703799284951,
          0.24715142949261415,
          0.24761078603640557,
          0.24704019990604148,
          0.2474120272959812,
          0.24724871308133278,
          0.24748896716981006,
          0.2473929148263458,
          0.24752569741097952,
          0.24740552699183282,
          0.247805684075231,
          0.24714429628313447,
          0.24727284309933056,
          0.24736345053443623,
          0.24747357238223056,
          0.24762934248258497,
          0.24736239092175547,
          0.24775062785996524,
          0.24742613563688945,
          0.2469959932186457,
          0.24704323118956886,
          0.24709247252115213,
          0.24749162293588284,
          0.24736276897355944,
          0.2475084606684917,
          0.24721035875556294,
          0.2471043625144564,
          0.24790956360853744,
          0.24719690696198066,
          0.24777680175369224,
          0.247184602069891,
          0.247321328623501,
          0.24778847518904698,
          0.2471332731693805,
          0.24740529118247379,
          0.24743446148283138,
          0.24795302626180296,
          0.24720022721688106,
          0.2470580898470389,
          0.24733733772465058,
          0.24699790256147863,
          0.24744927277976872,
          0.24746220075486958,
          0.24716968706306788,
          0.2473945711980171,
          0.24711761478861297,
          0.24739576864611265,
          0.24781280987282445,
          0.24747587048816638,
          0.24702370884583782,
          0.24775111946383352,
          0.2472401765938513,
          0.24751608889528423,
          0.24700326037415166,
          0.24782490718814137,
          0.24707359442993346,
          0.24784756653259749,
          0.24779824327854139,
          0.24705981095517496,
          0.2472208657885073,
          0.24750664858639643,
          0.24786439312561925,
          0.2471044828586611,
          0.24795676955249418,
          0.24768472906324526,
          0.2471592174838063,
          0.24777803837137094,
          0.24703616028182043,
          0.24753161685011876,
          0.24755197876969148,
          0.2476421712199788,
          0.24773630801197574,
          0.24760389716811976,
          0.24705571867156326,
          0.2478983365029012,
          0.2476400529444121,
          0.2477084381987801,
          0.24720874946426274,
          0.24792114066352425,
          0.24738842934558727,
          0.24691126256920484,
          0.24778052070236756,
          0.2476696339590821,
          0.247772025881271,
          0.24785862492601365,
          0.24736018474619975,
          0.2476127554226871,
          0.2472784765818867,
          0.2474573235219406,
          0.2474603856958548,
          0.24700103385626856,
          0.24737788252800963,
          0
         ]
        }
       ],
       "layout": {
        "template": {
         "data": {
          "bar": [
           {
            "error_x": {
             "color": "#2a3f5f"
            },
            "error_y": {
             "color": "#2a3f5f"
            },
            "marker": {
             "line": {
              "color": "#E5ECF6",
              "width": 0.5
             },
             "pattern": {
              "fillmode": "overlay",
              "size": 10,
              "solidity": 0.2
             }
            },
            "type": "bar"
           }
          ],
          "barpolar": [
           {
            "marker": {
             "line": {
              "color": "#E5ECF6",
              "width": 0.5
             },
             "pattern": {
              "fillmode": "overlay",
              "size": 10,
              "solidity": 0.2
             }
            },
            "type": "barpolar"
           }
          ],
          "carpet": [
           {
            "aaxis": {
             "endlinecolor": "#2a3f5f",
             "gridcolor": "white",
             "linecolor": "white",
             "minorgridcolor": "white",
             "startlinecolor": "#2a3f5f"
            },
            "baxis": {
             "endlinecolor": "#2a3f5f",
             "gridcolor": "white",
             "linecolor": "white",
             "minorgridcolor": "white",
             "startlinecolor": "#2a3f5f"
            },
            "type": "carpet"
           }
          ],
          "choropleth": [
           {
            "colorbar": {
             "outlinewidth": 0,
             "ticks": ""
            },
            "type": "choropleth"
           }
          ],
          "contour": [
           {
            "colorbar": {
             "outlinewidth": 0,
             "ticks": ""
            },
            "colorscale": [
             [
              0,
              "#0d0887"
             ],
             [
              0.1111111111111111,
              "#46039f"
             ],
             [
              0.2222222222222222,
              "#7201a8"
             ],
             [
              0.3333333333333333,
              "#9c179e"
             ],
             [
              0.4444444444444444,
              "#bd3786"
             ],
             [
              0.5555555555555556,
              "#d8576b"
             ],
             [
              0.6666666666666666,
              "#ed7953"
             ],
             [
              0.7777777777777778,
              "#fb9f3a"
             ],
             [
              0.8888888888888888,
              "#fdca26"
             ],
             [
              1,
              "#f0f921"
             ]
            ],
            "type": "contour"
           }
          ],
          "contourcarpet": [
           {
            "colorbar": {
             "outlinewidth": 0,
             "ticks": ""
            },
            "type": "contourcarpet"
           }
          ],
          "heatmap": [
           {
            "colorbar": {
             "outlinewidth": 0,
             "ticks": ""
            },
            "colorscale": [
             [
              0,
              "#0d0887"
             ],
             [
              0.1111111111111111,
              "#46039f"
             ],
             [
              0.2222222222222222,
              "#7201a8"
             ],
             [
              0.3333333333333333,
              "#9c179e"
             ],
             [
              0.4444444444444444,
              "#bd3786"
             ],
             [
              0.5555555555555556,
              "#d8576b"
             ],
             [
              0.6666666666666666,
              "#ed7953"
             ],
             [
              0.7777777777777778,
              "#fb9f3a"
             ],
             [
              0.8888888888888888,
              "#fdca26"
             ],
             [
              1,
              "#f0f921"
             ]
            ],
            "type": "heatmap"
           }
          ],
          "histogram": [
           {
            "marker": {
             "pattern": {
              "fillmode": "overlay",
              "size": 10,
              "solidity": 0.2
             }
            },
            "type": "histogram"
           }
          ],
          "histogram2d": [
           {
            "colorbar": {
             "outlinewidth": 0,
             "ticks": ""
            },
            "colorscale": [
             [
              0,
              "#0d0887"
             ],
             [
              0.1111111111111111,
              "#46039f"
             ],
             [
              0.2222222222222222,
              "#7201a8"
             ],
             [
              0.3333333333333333,
              "#9c179e"
             ],
             [
              0.4444444444444444,
              "#bd3786"
             ],
             [
              0.5555555555555556,
              "#d8576b"
             ],
             [
              0.6666666666666666,
              "#ed7953"
             ],
             [
              0.7777777777777778,
              "#fb9f3a"
             ],
             [
              0.8888888888888888,
              "#fdca26"
             ],
             [
              1,
              "#f0f921"
             ]
            ],
            "type": "histogram2d"
           }
          ],
          "histogram2dcontour": [
           {
            "colorbar": {
             "outlinewidth": 0,
             "ticks": ""
            },
            "colorscale": [
             [
              0,
              "#0d0887"
             ],
             [
              0.1111111111111111,
              "#46039f"
             ],
             [
              0.2222222222222222,
              "#7201a8"
             ],
             [
              0.3333333333333333,
              "#9c179e"
             ],
             [
              0.4444444444444444,
              "#bd3786"
             ],
             [
              0.5555555555555556,
              "#d8576b"
             ],
             [
              0.6666666666666666,
              "#ed7953"
             ],
             [
              0.7777777777777778,
              "#fb9f3a"
             ],
             [
              0.8888888888888888,
              "#fdca26"
             ],
             [
              1,
              "#f0f921"
             ]
            ],
            "type": "histogram2dcontour"
           }
          ],
          "mesh3d": [
           {
            "colorbar": {
             "outlinewidth": 0,
             "ticks": ""
            },
            "type": "mesh3d"
           }
          ],
          "parcoords": [
           {
            "line": {
             "colorbar": {
              "outlinewidth": 0,
              "ticks": ""
             }
            },
            "type": "parcoords"
           }
          ],
          "pie": [
           {
            "automargin": true,
            "type": "pie"
           }
          ],
          "scatter": [
           {
            "fillpattern": {
             "fillmode": "overlay",
             "size": 10,
             "solidity": 0.2
            },
            "type": "scatter"
           }
          ],
          "scatter3d": [
           {
            "line": {
             "colorbar": {
              "outlinewidth": 0,
              "ticks": ""
             }
            },
            "marker": {
             "colorbar": {
              "outlinewidth": 0,
              "ticks": ""
             }
            },
            "type": "scatter3d"
           }
          ],
          "scattercarpet": [
           {
            "marker": {
             "colorbar": {
              "outlinewidth": 0,
              "ticks": ""
             }
            },
            "type": "scattercarpet"
           }
          ],
          "scattergeo": [
           {
            "marker": {
             "colorbar": {
              "outlinewidth": 0,
              "ticks": ""
             }
            },
            "type": "scattergeo"
           }
          ],
          "scattergl": [
           {
            "marker": {
             "colorbar": {
              "outlinewidth": 0,
              "ticks": ""
             }
            },
            "type": "scattergl"
           }
          ],
          "scattermap": [
           {
            "marker": {
             "colorbar": {
              "outlinewidth": 0,
              "ticks": ""
             }
            },
            "type": "scattermap"
           }
          ],
          "scattermapbox": [
           {
            "marker": {
             "colorbar": {
              "outlinewidth": 0,
              "ticks": ""
             }
            },
            "type": "scattermapbox"
           }
          ],
          "scatterpolar": [
           {
            "marker": {
             "colorbar": {
              "outlinewidth": 0,
              "ticks": ""
             }
            },
            "type": "scatterpolar"
           }
          ],
          "scatterpolargl": [
           {
            "marker": {
             "colorbar": {
              "outlinewidth": 0,
              "ticks": ""
             }
            },
            "type": "scatterpolargl"
           }
          ],
          "scatterternary": [
           {
            "marker": {
             "colorbar": {
              "outlinewidth": 0,
              "ticks": ""
             }
            },
            "type": "scatterternary"
           }
          ],
          "surface": [
           {
            "colorbar": {
             "outlinewidth": 0,
             "ticks": ""
            },
            "colorscale": [
             [
              0,
              "#0d0887"
             ],
             [
              0.1111111111111111,
              "#46039f"
             ],
             [
              0.2222222222222222,
              "#7201a8"
             ],
             [
              0.3333333333333333,
              "#9c179e"
             ],
             [
              0.4444444444444444,
              "#bd3786"
             ],
             [
              0.5555555555555556,
              "#d8576b"
             ],
             [
              0.6666666666666666,
              "#ed7953"
             ],
             [
              0.7777777777777778,
              "#fb9f3a"
             ],
             [
              0.8888888888888888,
              "#fdca26"
             ],
             [
              1,
              "#f0f921"
             ]
            ],
            "type": "surface"
           }
          ],
          "table": [
           {
            "cells": {
             "fill": {
              "color": "#EBF0F8"
             },
             "line": {
              "color": "white"
             }
            },
            "header": {
             "fill": {
              "color": "#C8D4E3"
             },
             "line": {
              "color": "white"
             }
            },
            "type": "table"
           }
          ]
         },
         "layout": {
          "annotationdefaults": {
           "arrowcolor": "#2a3f5f",
           "arrowhead": 0,
           "arrowwidth": 1
          },
          "autotypenumbers": "strict",
          "coloraxis": {
           "colorbar": {
            "outlinewidth": 0,
            "ticks": ""
           }
          },
          "colorscale": {
           "diverging": [
            [
             0,
             "#8e0152"
            ],
            [
             0.1,
             "#c51b7d"
            ],
            [
             0.2,
             "#de77ae"
            ],
            [
             0.3,
             "#f1b6da"
            ],
            [
             0.4,
             "#fde0ef"
            ],
            [
             0.5,
             "#f7f7f7"
            ],
            [
             0.6,
             "#e6f5d0"
            ],
            [
             0.7,
             "#b8e186"
            ],
            [
             0.8,
             "#7fbc41"
            ],
            [
             0.9,
             "#4d9221"
            ],
            [
             1,
             "#276419"
            ]
           ],
           "sequential": [
            [
             0,
             "#0d0887"
            ],
            [
             0.1111111111111111,
             "#46039f"
            ],
            [
             0.2222222222222222,
             "#7201a8"
            ],
            [
             0.3333333333333333,
             "#9c179e"
            ],
            [
             0.4444444444444444,
             "#bd3786"
            ],
            [
             0.5555555555555556,
             "#d8576b"
            ],
            [
             0.6666666666666666,
             "#ed7953"
            ],
            [
             0.7777777777777778,
             "#fb9f3a"
            ],
            [
             0.8888888888888888,
             "#fdca26"
            ],
            [
             1,
             "#f0f921"
            ]
           ],
           "sequentialminus": [
            [
             0,
             "#0d0887"
            ],
            [
             0.1111111111111111,
             "#46039f"
            ],
            [
             0.2222222222222222,
             "#7201a8"
            ],
            [
             0.3333333333333333,
             "#9c179e"
            ],
            [
             0.4444444444444444,
             "#bd3786"
            ],
            [
             0.5555555555555556,
             "#d8576b"
            ],
            [
             0.6666666666666666,
             "#ed7953"
            ],
            [
             0.7777777777777778,
             "#fb9f3a"
            ],
            [
             0.8888888888888888,
             "#fdca26"
            ],
            [
             1,
             "#f0f921"
            ]
           ]
          },
          "colorway": [
           "#636efa",
           "#EF553B",
           "#00cc96",
           "#ab63fa",
           "#FFA15A",
           "#19d3f3",
           "#FF6692",
           "#B6E880",
           "#FF97FF",
           "#FECB52"
          ],
          "font": {
           "color": "#2a3f5f"
          },
          "geo": {
           "bgcolor": "white",
           "lakecolor": "white",
           "landcolor": "#E5ECF6",
           "showlakes": true,
           "showland": true,
           "subunitcolor": "white"
          },
          "hoverlabel": {
           "align": "left"
          },
          "hovermode": "closest",
          "mapbox": {
           "style": "light"
          },
          "paper_bgcolor": "white",
          "plot_bgcolor": "#E5ECF6",
          "polar": {
           "angularaxis": {
            "gridcolor": "white",
            "linecolor": "white",
            "ticks": ""
           },
           "bgcolor": "#E5ECF6",
           "radialaxis": {
            "gridcolor": "white",
            "linecolor": "white",
            "ticks": ""
           }
          },
          "scene": {
           "xaxis": {
            "backgroundcolor": "#E5ECF6",
            "gridcolor": "white",
            "gridwidth": 2,
            "linecolor": "white",
            "showbackground": true,
            "ticks": "",
            "zerolinecolor": "white"
           },
           "yaxis": {
            "backgroundcolor": "#E5ECF6",
            "gridcolor": "white",
            "gridwidth": 2,
            "linecolor": "white",
            "showbackground": true,
            "ticks": "",
            "zerolinecolor": "white"
           },
           "zaxis": {
            "backgroundcolor": "#E5ECF6",
            "gridcolor": "white",
            "gridwidth": 2,
            "linecolor": "white",
            "showbackground": true,
            "ticks": "",
            "zerolinecolor": "white"
           }
          },
          "shapedefaults": {
           "line": {
            "color": "#2a3f5f"
           }
          },
          "ternary": {
           "aaxis": {
            "gridcolor": "white",
            "linecolor": "white",
            "ticks": ""
           },
           "baxis": {
            "gridcolor": "white",
            "linecolor": "white",
            "ticks": ""
           },
           "bgcolor": "#E5ECF6",
           "caxis": {
            "gridcolor": "white",
            "linecolor": "white",
            "ticks": ""
           }
          },
          "title": {
           "x": 0.05
          },
          "xaxis": {
           "automargin": true,
           "gridcolor": "white",
           "linecolor": "white",
           "ticks": "",
           "title": {
            "standoff": 15
           },
           "zerolinecolor": "white",
           "zerolinewidth": 2
          },
          "yaxis": {
           "automargin": true,
           "gridcolor": "white",
           "linecolor": "white",
           "ticks": "",
           "title": {
            "standoff": 15
           },
           "zerolinecolor": "white",
           "zerolinewidth": 2
          }
         }
        },
        "title": {
         "text": "Eficiência do ciclo"
        },
        "xaxis": {
         "range": [
          0,
          99
         ]
        },
        "yaxis": {
         "range": [
          0.24,
          0.25
         ]
        }
       }
      },
      "text/html": [
       "<div>                        <script type=\"text/javascript\">window.PlotlyConfig = {MathJaxConfig: 'local'};</script>\n",
       "        <script charset=\"utf-8\" src=\"https://cdn.plot.ly/plotly-3.0.1.min.js\"></script>                <div id=\"60973538-7dbd-4a6e-bfb3-2f6c2f379f35\" class=\"plotly-graph-div\" style=\"height:100%; width:100%;\"></div>            <script type=\"text/javascript\">                window.PLOTLYENV=window.PLOTLYENV || {};                                if (document.getElementById(\"60973538-7dbd-4a6e-bfb3-2f6c2f379f35\")) {                    Plotly.newPlot(                        \"60973538-7dbd-4a6e-bfb3-2f6c2f379f35\",                        [{\"customdata\":[\"bar\",\"29.77696395\",\"30.16273006\",\"30.21785737\",\"30.16557092\",\"30.23049438\",\"29.75164505\",\"29.79518967\",\"30.0904155\",\"29.84260984\",\"29.98912729\",\"29.86313525\",\"30.0108506\",\"29.96389363\",\"30.06042719\",\"30.03706052\",\"30.14753314\",\"29.84259746\",\"29.96039185\",\"29.9895522\",\"30.05273716\",\"30.14685025\",\"29.97390591\",\"30.14403423\",\"30.06169896\",\"29.8035826\",\"29.85689522\",\"29.78004019\",\"29.98301453\",\"30.02201458\",\"30.09703201\",\"29.82939888\",\"29.8356024\",\"30.19599233\",\"29.82379324\",\"30.14831543\",\"29.86571818\",\"29.90166948\",\"30.1435313\",\"29.88184883\",\"30.02461028\",\"29.98097873\",\"30.2303088\",\"29.8569875\",\"29.81798168\",\"29.97406549\",\"29.79415514\",\"29.9736564\",\"29.98818891\",\"29.91985938\",\"29.95791397\",\"29.87921006\",\"29.92386604\",\"30.14097111\",\"29.96687935\",\"29.8214578\",\"30.14037481\",\"29.85337056\",\"30.06994983\",\"29.81618824\",\"30.22850803\",\"29.87826484\",\"30.235868\",\"30.24829948\",\"29.80895856\",\"29.95985116\",\"30.01146217\",\"30.18127253\",\"29.848579\",\"30.24126541\",\"30.21359422\",\"29.8528547\",\"30.20513027\",\"29.77933716\",\"30.02355516\",\"30.06951029\",\"30.19084166\",\"30.18898838\",\"30.07136217\",\"29.77264641\",\"30.22615611\",\"30.10951623\",\"30.12425549\",\"29.85091124\",\"30.23636732\",\"29.90960951\",\"29.7878335\",\"30.13642538\",\"30.10509337\",\"30.1938402\",\"30.19834435\",\"29.93553265\",\"30.07663148\",\"29.94607562\",\"30.02247603\",\"30.09283692\",\"29.82073092\",\"29.97512316\",\"30.12794103\"],\"hoverinfo\":\"text\",\"hovertemplate\":\"Rendimento: %{y:.3f}, P6 =  %{customdata:.3f} bar\",\"marker\":{\"color\":\"rgba(255, 0, 0, 0.5)\",\"line\":{\"color\":\"rgba(255, 0, 0, 0.5)\",\"width\":2},\"size\":12,\"symbol\":\"diamond\"},\"mode\":\"markers\",\"name\":\"Rendimento\",\"x\":[\"dd:mm:aaaa hh:mm\",\"14\\u002f05\\u002f2025 14:30:00\",\"14\\u002f05\\u002f2025 14:31:00\",\"14\\u002f05\\u002f2025 14:32:00\",\"14\\u002f05\\u002f2025 14:33:00\",\"14\\u002f05\\u002f2025 14:34:00\",\"14\\u002f05\\u002f2025 14:35:00\",\"14\\u002f05\\u002f2025 14:36:00\",\"14\\u002f05\\u002f2025 14:37:00\",\"14\\u002f05\\u002f2025 14:38:00\",\"14\\u002f05\\u002f2025 14:39:00\",\"14\\u002f05\\u002f2025 14:40:00\",\"14\\u002f05\\u002f2025 14:41:00\",\"14\\u002f05\\u002f2025 14:42:00\",\"14\\u002f05\\u002f2025 14:43:00\",\"14\\u002f05\\u002f2025 14:44:00\",\"14\\u002f05\\u002f2025 14:45:00\",\"14\\u002f05\\u002f2025 14:46:00\",\"14\\u002f05\\u002f2025 14:47:00\",\"14\\u002f05\\u002f2025 14:48:00\",\"14\\u002f05\\u002f2025 14:49:00\",\"14\\u002f05\\u002f2025 14:50:00\",\"14\\u002f05\\u002f2025 14:51:00\",\"14\\u002f05\\u002f2025 14:52:00\",\"14\\u002f05\\u002f2025 14:53:00\",\"14\\u002f05\\u002f2025 14:54:00\",\"14\\u002f05\\u002f2025 14:55:00\",\"14\\u002f05\\u002f2025 14:56:00\",\"14\\u002f05\\u002f2025 14:57:00\",\"14\\u002f05\\u002f2025 14:58:00\",\"14\\u002f05\\u002f2025 14:59:00\",\"14\\u002f05\\u002f2025 15:00:00\",\"14\\u002f05\\u002f2025 15:01:00\",\"14\\u002f05\\u002f2025 15:02:00\",\"14\\u002f05\\u002f2025 15:03:00\",\"14\\u002f05\\u002f2025 15:04:00\",\"14\\u002f05\\u002f2025 15:05:00\",\"14\\u002f05\\u002f2025 15:06:00\",\"14\\u002f05\\u002f2025 15:07:00\",\"14\\u002f05\\u002f2025 15:08:00\",\"14\\u002f05\\u002f2025 15:09:00\",\"14\\u002f05\\u002f2025 15:10:00\",\"14\\u002f05\\u002f2025 15:11:00\",\"14\\u002f05\\u002f2025 15:12:00\",\"14\\u002f05\\u002f2025 15:13:00\",\"14\\u002f05\\u002f2025 15:14:00\",\"14\\u002f05\\u002f2025 15:15:00\",\"14\\u002f05\\u002f2025 15:16:00\",\"14\\u002f05\\u002f2025 15:17:00\",\"14\\u002f05\\u002f2025 15:18:00\",\"14\\u002f05\\u002f2025 15:19:00\",\"14\\u002f05\\u002f2025 15:20:00\",\"14\\u002f05\\u002f2025 15:21:00\",\"14\\u002f05\\u002f2025 15:22:00\",\"14\\u002f05\\u002f2025 15:23:00\",\"14\\u002f05\\u002f2025 15:24:00\",\"14\\u002f05\\u002f2025 15:25:00\",\"14\\u002f05\\u002f2025 15:26:00\",\"14\\u002f05\\u002f2025 15:27:00\",\"14\\u002f05\\u002f2025 15:28:00\",\"14\\u002f05\\u002f2025 15:29:00\",\"14\\u002f05\\u002f2025 15:30:00\",\"14\\u002f05\\u002f2025 15:31:00\",\"14\\u002f05\\u002f2025 15:32:00\",\"14\\u002f05\\u002f2025 15:33:00\",\"14\\u002f05\\u002f2025 15:34:00\",\"14\\u002f05\\u002f2025 15:35:00\",\"14\\u002f05\\u002f2025 15:36:00\",\"14\\u002f05\\u002f2025 15:37:00\",\"14\\u002f05\\u002f2025 15:38:00\",\"14\\u002f05\\u002f2025 15:39:00\",\"14\\u002f05\\u002f2025 15:40:00\",\"14\\u002f05\\u002f2025 15:41:00\",\"14\\u002f05\\u002f2025 15:42:00\",\"14\\u002f05\\u002f2025 15:43:00\",\"14\\u002f05\\u002f2025 15:44:00\",\"14\\u002f05\\u002f2025 15:45:00\",\"14\\u002f05\\u002f2025 15:46:00\",\"14\\u002f05\\u002f2025 15:47:00\",\"14\\u002f05\\u002f2025 15:48:00\",\"14\\u002f05\\u002f2025 15:49:00\",\"14\\u002f05\\u002f2025 15:50:00\",\"14\\u002f05\\u002f2025 15:51:00\",\"14\\u002f05\\u002f2025 15:52:00\",\"14\\u002f05\\u002f2025 15:53:00\",\"14\\u002f05\\u002f2025 15:54:00\",\"14\\u002f05\\u002f2025 15:55:00\",\"14\\u002f05\\u002f2025 15:56:00\",\"14\\u002f05\\u002f2025 15:57:00\",\"14\\u002f05\\u002f2025 15:58:00\",\"14\\u002f05\\u002f2025 15:59:00\",\"14\\u002f05\\u002f2025 16:00:00\",\"14\\u002f05\\u002f2025 16:01:00\",\"14\\u002f05\\u002f2025 16:02:00\",\"14\\u002f05\\u002f2025 16:03:00\",\"14\\u002f05\\u002f2025 16:04:00\",\"14\\u002f05\\u002f2025 16:05:00\",\"14\\u002f05\\u002f2025 16:06:00\",\"14\\u002f05\\u002f2025 16:07:00\"],\"y\":[\"\",0.2471208224187671,0.24760251779952228,0.2477081079699895,0.24772033299739457,0.24788563115977588,0.24703799284951,0.24715142949261415,0.24761078603640557,0.24704019990604148,0.2474120272959812,0.24724871308133278,0.24748896716981006,0.2473929148263458,0.24752569741097952,0.24740552699183282,0.247805684075231,0.24714429628313447,0.24727284309933056,0.24736345053443623,0.24747357238223056,0.24762934248258497,0.24736239092175547,0.24775062785996524,0.24742613563688945,0.2469959932186457,0.24704323118956886,0.24709247252115213,0.24749162293588284,0.24736276897355944,0.2475084606684917,0.24721035875556294,0.2471043625144564,0.24790956360853744,0.24719690696198066,0.24777680175369224,0.247184602069891,0.247321328623501,0.24778847518904698,0.2471332731693805,0.24740529118247379,0.24743446148283138,0.24795302626180296,0.24720022721688106,0.2470580898470389,0.24733733772465058,0.24699790256147863,0.24744927277976872,0.24746220075486958,0.24716968706306788,0.2473945711980171,0.24711761478861297,0.24739576864611265,0.24781280987282445,0.24747587048816638,0.24702370884583782,0.24775111946383352,0.2472401765938513,0.24751608889528423,0.24700326037415166,0.24782490718814137,0.24707359442993346,0.24784756653259749,0.24779824327854139,0.24705981095517496,0.2472208657885073,0.24750664858639643,0.24786439312561925,0.2471044828586611,0.24795676955249418,0.24768472906324526,0.2471592174838063,0.24777803837137094,0.24703616028182043,0.24753161685011876,0.24755197876969148,0.2476421712199788,0.24773630801197574,0.24760389716811976,0.24705571867156326,0.2478983365029012,0.2476400529444121,0.2477084381987801,0.24720874946426274,0.24792114066352425,0.24738842934558727,0.24691126256920484,0.24778052070236756,0.2476696339590821,0.247772025881271,0.24785862492601365,0.24736018474619975,0.2476127554226871,0.2472784765818867,0.2474573235219406,0.2474603856958548,0.24700103385626856,0.24737788252800963,0.0],\"type\":\"scatter\"}],                        {\"template\":{\"data\":{\"histogram2dcontour\":[{\"type\":\"histogram2dcontour\",\"colorbar\":{\"outlinewidth\":0,\"ticks\":\"\"},\"colorscale\":[[0.0,\"#0d0887\"],[0.1111111111111111,\"#46039f\"],[0.2222222222222222,\"#7201a8\"],[0.3333333333333333,\"#9c179e\"],[0.4444444444444444,\"#bd3786\"],[0.5555555555555556,\"#d8576b\"],[0.6666666666666666,\"#ed7953\"],[0.7777777777777778,\"#fb9f3a\"],[0.8888888888888888,\"#fdca26\"],[1.0,\"#f0f921\"]]}],\"choropleth\":[{\"type\":\"choropleth\",\"colorbar\":{\"outlinewidth\":0,\"ticks\":\"\"}}],\"histogram2d\":[{\"type\":\"histogram2d\",\"colorbar\":{\"outlinewidth\":0,\"ticks\":\"\"},\"colorscale\":[[0.0,\"#0d0887\"],[0.1111111111111111,\"#46039f\"],[0.2222222222222222,\"#7201a8\"],[0.3333333333333333,\"#9c179e\"],[0.4444444444444444,\"#bd3786\"],[0.5555555555555556,\"#d8576b\"],[0.6666666666666666,\"#ed7953\"],[0.7777777777777778,\"#fb9f3a\"],[0.8888888888888888,\"#fdca26\"],[1.0,\"#f0f921\"]]}],\"heatmap\":[{\"type\":\"heatmap\",\"colorbar\":{\"outlinewidth\":0,\"ticks\":\"\"},\"colorscale\":[[0.0,\"#0d0887\"],[0.1111111111111111,\"#46039f\"],[0.2222222222222222,\"#7201a8\"],[0.3333333333333333,\"#9c179e\"],[0.4444444444444444,\"#bd3786\"],[0.5555555555555556,\"#d8576b\"],[0.6666666666666666,\"#ed7953\"],[0.7777777777777778,\"#fb9f3a\"],[0.8888888888888888,\"#fdca26\"],[1.0,\"#f0f921\"]]}],\"contourcarpet\":[{\"type\":\"contourcarpet\",\"colorbar\":{\"outlinewidth\":0,\"ticks\":\"\"}}],\"contour\":[{\"type\":\"contour\",\"colorbar\":{\"outlinewidth\":0,\"ticks\":\"\"},\"colorscale\":[[0.0,\"#0d0887\"],[0.1111111111111111,\"#46039f\"],[0.2222222222222222,\"#7201a8\"],[0.3333333333333333,\"#9c179e\"],[0.4444444444444444,\"#bd3786\"],[0.5555555555555556,\"#d8576b\"],[0.6666666666666666,\"#ed7953\"],[0.7777777777777778,\"#fb9f3a\"],[0.8888888888888888,\"#fdca26\"],[1.0,\"#f0f921\"]]}],\"surface\":[{\"type\":\"surface\",\"colorbar\":{\"outlinewidth\":0,\"ticks\":\"\"},\"colorscale\":[[0.0,\"#0d0887\"],[0.1111111111111111,\"#46039f\"],[0.2222222222222222,\"#7201a8\"],[0.3333333333333333,\"#9c179e\"],[0.4444444444444444,\"#bd3786\"],[0.5555555555555556,\"#d8576b\"],[0.6666666666666666,\"#ed7953\"],[0.7777777777777778,\"#fb9f3a\"],[0.8888888888888888,\"#fdca26\"],[1.0,\"#f0f921\"]]}],\"mesh3d\":[{\"type\":\"mesh3d\",\"colorbar\":{\"outlinewidth\":0,\"ticks\":\"\"}}],\"scatter\":[{\"fillpattern\":{\"fillmode\":\"overlay\",\"size\":10,\"solidity\":0.2},\"type\":\"scatter\"}],\"parcoords\":[{\"type\":\"parcoords\",\"line\":{\"colorbar\":{\"outlinewidth\":0,\"ticks\":\"\"}}}],\"scatterpolargl\":[{\"type\":\"scatterpolargl\",\"marker\":{\"colorbar\":{\"outlinewidth\":0,\"ticks\":\"\"}}}],\"bar\":[{\"error_x\":{\"color\":\"#2a3f5f\"},\"error_y\":{\"color\":\"#2a3f5f\"},\"marker\":{\"line\":{\"color\":\"#E5ECF6\",\"width\":0.5},\"pattern\":{\"fillmode\":\"overlay\",\"size\":10,\"solidity\":0.2}},\"type\":\"bar\"}],\"scattergeo\":[{\"type\":\"scattergeo\",\"marker\":{\"colorbar\":{\"outlinewidth\":0,\"ticks\":\"\"}}}],\"scatterpolar\":[{\"type\":\"scatterpolar\",\"marker\":{\"colorbar\":{\"outlinewidth\":0,\"ticks\":\"\"}}}],\"histogram\":[{\"marker\":{\"pattern\":{\"fillmode\":\"overlay\",\"size\":10,\"solidity\":0.2}},\"type\":\"histogram\"}],\"scattergl\":[{\"type\":\"scattergl\",\"marker\":{\"colorbar\":{\"outlinewidth\":0,\"ticks\":\"\"}}}],\"scatter3d\":[{\"type\":\"scatter3d\",\"line\":{\"colorbar\":{\"outlinewidth\":0,\"ticks\":\"\"}},\"marker\":{\"colorbar\":{\"outlinewidth\":0,\"ticks\":\"\"}}}],\"scattermap\":[{\"type\":\"scattermap\",\"marker\":{\"colorbar\":{\"outlinewidth\":0,\"ticks\":\"\"}}}],\"scattermapbox\":[{\"type\":\"scattermapbox\",\"marker\":{\"colorbar\":{\"outlinewidth\":0,\"ticks\":\"\"}}}],\"scatterternary\":[{\"type\":\"scatterternary\",\"marker\":{\"colorbar\":{\"outlinewidth\":0,\"ticks\":\"\"}}}],\"scattercarpet\":[{\"type\":\"scattercarpet\",\"marker\":{\"colorbar\":{\"outlinewidth\":0,\"ticks\":\"\"}}}],\"carpet\":[{\"aaxis\":{\"endlinecolor\":\"#2a3f5f\",\"gridcolor\":\"white\",\"linecolor\":\"white\",\"minorgridcolor\":\"white\",\"startlinecolor\":\"#2a3f5f\"},\"baxis\":{\"endlinecolor\":\"#2a3f5f\",\"gridcolor\":\"white\",\"linecolor\":\"white\",\"minorgridcolor\":\"white\",\"startlinecolor\":\"#2a3f5f\"},\"type\":\"carpet\"}],\"table\":[{\"cells\":{\"fill\":{\"color\":\"#EBF0F8\"},\"line\":{\"color\":\"white\"}},\"header\":{\"fill\":{\"color\":\"#C8D4E3\"},\"line\":{\"color\":\"white\"}},\"type\":\"table\"}],\"barpolar\":[{\"marker\":{\"line\":{\"color\":\"#E5ECF6\",\"width\":0.5},\"pattern\":{\"fillmode\":\"overlay\",\"size\":10,\"solidity\":0.2}},\"type\":\"barpolar\"}],\"pie\":[{\"automargin\":true,\"type\":\"pie\"}]},\"layout\":{\"autotypenumbers\":\"strict\",\"colorway\":[\"#636efa\",\"#EF553B\",\"#00cc96\",\"#ab63fa\",\"#FFA15A\",\"#19d3f3\",\"#FF6692\",\"#B6E880\",\"#FF97FF\",\"#FECB52\"],\"font\":{\"color\":\"#2a3f5f\"},\"hovermode\":\"closest\",\"hoverlabel\":{\"align\":\"left\"},\"paper_bgcolor\":\"white\",\"plot_bgcolor\":\"#E5ECF6\",\"polar\":{\"bgcolor\":\"#E5ECF6\",\"angularaxis\":{\"gridcolor\":\"white\",\"linecolor\":\"white\",\"ticks\":\"\"},\"radialaxis\":{\"gridcolor\":\"white\",\"linecolor\":\"white\",\"ticks\":\"\"}},\"ternary\":{\"bgcolor\":\"#E5ECF6\",\"aaxis\":{\"gridcolor\":\"white\",\"linecolor\":\"white\",\"ticks\":\"\"},\"baxis\":{\"gridcolor\":\"white\",\"linecolor\":\"white\",\"ticks\":\"\"},\"caxis\":{\"gridcolor\":\"white\",\"linecolor\":\"white\",\"ticks\":\"\"}},\"coloraxis\":{\"colorbar\":{\"outlinewidth\":0,\"ticks\":\"\"}},\"colorscale\":{\"sequential\":[[0.0,\"#0d0887\"],[0.1111111111111111,\"#46039f\"],[0.2222222222222222,\"#7201a8\"],[0.3333333333333333,\"#9c179e\"],[0.4444444444444444,\"#bd3786\"],[0.5555555555555556,\"#d8576b\"],[0.6666666666666666,\"#ed7953\"],[0.7777777777777778,\"#fb9f3a\"],[0.8888888888888888,\"#fdca26\"],[1.0,\"#f0f921\"]],\"sequentialminus\":[[0.0,\"#0d0887\"],[0.1111111111111111,\"#46039f\"],[0.2222222222222222,\"#7201a8\"],[0.3333333333333333,\"#9c179e\"],[0.4444444444444444,\"#bd3786\"],[0.5555555555555556,\"#d8576b\"],[0.6666666666666666,\"#ed7953\"],[0.7777777777777778,\"#fb9f3a\"],[0.8888888888888888,\"#fdca26\"],[1.0,\"#f0f921\"]],\"diverging\":[[0,\"#8e0152\"],[0.1,\"#c51b7d\"],[0.2,\"#de77ae\"],[0.3,\"#f1b6da\"],[0.4,\"#fde0ef\"],[0.5,\"#f7f7f7\"],[0.6,\"#e6f5d0\"],[0.7,\"#b8e186\"],[0.8,\"#7fbc41\"],[0.9,\"#4d9221\"],[1,\"#276419\"]]},\"xaxis\":{\"gridcolor\":\"white\",\"linecolor\":\"white\",\"ticks\":\"\",\"title\":{\"standoff\":15},\"zerolinecolor\":\"white\",\"automargin\":true,\"zerolinewidth\":2},\"yaxis\":{\"gridcolor\":\"white\",\"linecolor\":\"white\",\"ticks\":\"\",\"title\":{\"standoff\":15},\"zerolinecolor\":\"white\",\"automargin\":true,\"zerolinewidth\":2},\"scene\":{\"xaxis\":{\"backgroundcolor\":\"#E5ECF6\",\"gridcolor\":\"white\",\"linecolor\":\"white\",\"showbackground\":true,\"ticks\":\"\",\"zerolinecolor\":\"white\",\"gridwidth\":2},\"yaxis\":{\"backgroundcolor\":\"#E5ECF6\",\"gridcolor\":\"white\",\"linecolor\":\"white\",\"showbackground\":true,\"ticks\":\"\",\"zerolinecolor\":\"white\",\"gridwidth\":2},\"zaxis\":{\"backgroundcolor\":\"#E5ECF6\",\"gridcolor\":\"white\",\"linecolor\":\"white\",\"showbackground\":true,\"ticks\":\"\",\"zerolinecolor\":\"white\",\"gridwidth\":2}},\"shapedefaults\":{\"line\":{\"color\":\"#2a3f5f\"}},\"annotationdefaults\":{\"arrowcolor\":\"#2a3f5f\",\"arrowhead\":0,\"arrowwidth\":1},\"geo\":{\"bgcolor\":\"white\",\"landcolor\":\"#E5ECF6\",\"subunitcolor\":\"white\",\"showland\":true,\"showlakes\":true,\"lakecolor\":\"white\"},\"title\":{\"x\":0.05},\"mapbox\":{\"style\":\"light\"}}},\"xaxis\":{\"range\":[0,99]},\"yaxis\":{\"range\":[0.24,0.25]},\"title\":{\"text\":\"Efici\\u00eancia do ciclo\"}},                        {\"responsive\": true}                    )                };            </script>        </div>"
      ],
      "text/plain": [
       "Figure({\n",
       "    'data': [{'customdata': array(['bar', '29.77696395', '30.16273006', '30.21785737', '30.16557092',\n",
       "                                   '30.23049438', '29.75164505', '29.79518967', '30.0904155',\n",
       "                                   '29.84260984', '29.98912729', '29.86313525', '30.0108506',\n",
       "                                   '29.96389363', '30.06042719', '30.03706052', '30.14753314',\n",
       "                                   '29.84259746', '29.96039185', '29.9895522', '30.05273716',\n",
       "                                   '30.14685025', '29.97390591', '30.14403423', '30.06169896',\n",
       "                                   '29.8035826', '29.85689522', '29.78004019', '29.98301453',\n",
       "                                   '30.02201458', '30.09703201', '29.82939888', '29.8356024',\n",
       "                                   '30.19599233', '29.82379324', '30.14831543', '29.86571818',\n",
       "                                   '29.90166948', '30.1435313', '29.88184883', '30.02461028',\n",
       "                                   '29.98097873', '30.2303088', '29.8569875', '29.81798168', '29.97406549',\n",
       "                                   '29.79415514', '29.9736564', '29.98818891', '29.91985938',\n",
       "                                   '29.95791397', '29.87921006', '29.92386604', '30.14097111',\n",
       "                                   '29.96687935', '29.8214578', '30.14037481', '29.85337056',\n",
       "                                   '30.06994983', '29.81618824', '30.22850803', '29.87826484', '30.235868',\n",
       "                                   '30.24829948', '29.80895856', '29.95985116', '30.01146217',\n",
       "                                   '30.18127253', '29.848579', '30.24126541', '30.21359422', '29.8528547',\n",
       "                                   '30.20513027', '29.77933716', '30.02355516', '30.06951029',\n",
       "                                   '30.19084166', '30.18898838', '30.07136217', '29.77264641',\n",
       "                                   '30.22615611', '30.10951623', '30.12425549', '29.85091124',\n",
       "                                   '30.23636732', '29.90960951', '29.7878335', '30.13642538',\n",
       "                                   '30.10509337', '30.1938402', '30.19834435', '29.93553265',\n",
       "                                   '30.07663148', '29.94607562', '30.02247603', '30.09283692',\n",
       "                                   '29.82073092', '29.97512316', '30.12794103'], dtype=object),\n",
       "              'hoverinfo': 'text',\n",
       "              'hovertemplate': 'Rendimento: %{y:.3f}, P6 =  %{customdata:.3f} bar',\n",
       "              'marker': {'color': 'rgba(255, 0, 0, 0.5)',\n",
       "                         'line': {'color': 'rgba(255, 0, 0, 0.5)', 'width': 2},\n",
       "                         'size': 12,\n",
       "                         'symbol': 'diamond'},\n",
       "              'mode': 'markers',\n",
       "              'name': 'Rendimento',\n",
       "              'type': 'scatter',\n",
       "              'x': array(['dd:mm:aaaa hh:mm', '14/05/2025 14:30:00', '14/05/2025 14:31:00',\n",
       "                          '14/05/2025 14:32:00', '14/05/2025 14:33:00', '14/05/2025 14:34:00',\n",
       "                          '14/05/2025 14:35:00', '14/05/2025 14:36:00', '14/05/2025 14:37:00',\n",
       "                          '14/05/2025 14:38:00', '14/05/2025 14:39:00', '14/05/2025 14:40:00',\n",
       "                          '14/05/2025 14:41:00', '14/05/2025 14:42:00', '14/05/2025 14:43:00',\n",
       "                          '14/05/2025 14:44:00', '14/05/2025 14:45:00', '14/05/2025 14:46:00',\n",
       "                          '14/05/2025 14:47:00', '14/05/2025 14:48:00', '14/05/2025 14:49:00',\n",
       "                          '14/05/2025 14:50:00', '14/05/2025 14:51:00', '14/05/2025 14:52:00',\n",
       "                          '14/05/2025 14:53:00', '14/05/2025 14:54:00', '14/05/2025 14:55:00',\n",
       "                          '14/05/2025 14:56:00', '14/05/2025 14:57:00', '14/05/2025 14:58:00',\n",
       "                          '14/05/2025 14:59:00', '14/05/2025 15:00:00', '14/05/2025 15:01:00',\n",
       "                          '14/05/2025 15:02:00', '14/05/2025 15:03:00', '14/05/2025 15:04:00',\n",
       "                          '14/05/2025 15:05:00', '14/05/2025 15:06:00', '14/05/2025 15:07:00',\n",
       "                          '14/05/2025 15:08:00', '14/05/2025 15:09:00', '14/05/2025 15:10:00',\n",
       "                          '14/05/2025 15:11:00', '14/05/2025 15:12:00', '14/05/2025 15:13:00',\n",
       "                          '14/05/2025 15:14:00', '14/05/2025 15:15:00', '14/05/2025 15:16:00',\n",
       "                          '14/05/2025 15:17:00', '14/05/2025 15:18:00', '14/05/2025 15:19:00',\n",
       "                          '14/05/2025 15:20:00', '14/05/2025 15:21:00', '14/05/2025 15:22:00',\n",
       "                          '14/05/2025 15:23:00', '14/05/2025 15:24:00', '14/05/2025 15:25:00',\n",
       "                          '14/05/2025 15:26:00', '14/05/2025 15:27:00', '14/05/2025 15:28:00',\n",
       "                          '14/05/2025 15:29:00', '14/05/2025 15:30:00', '14/05/2025 15:31:00',\n",
       "                          '14/05/2025 15:32:00', '14/05/2025 15:33:00', '14/05/2025 15:34:00',\n",
       "                          '14/05/2025 15:35:00', '14/05/2025 15:36:00', '14/05/2025 15:37:00',\n",
       "                          '14/05/2025 15:38:00', '14/05/2025 15:39:00', '14/05/2025 15:40:00',\n",
       "                          '14/05/2025 15:41:00', '14/05/2025 15:42:00', '14/05/2025 15:43:00',\n",
       "                          '14/05/2025 15:44:00', '14/05/2025 15:45:00', '14/05/2025 15:46:00',\n",
       "                          '14/05/2025 15:47:00', '14/05/2025 15:48:00', '14/05/2025 15:49:00',\n",
       "                          '14/05/2025 15:50:00', '14/05/2025 15:51:00', '14/05/2025 15:52:00',\n",
       "                          '14/05/2025 15:53:00', '14/05/2025 15:54:00', '14/05/2025 15:55:00',\n",
       "                          '14/05/2025 15:56:00', '14/05/2025 15:57:00', '14/05/2025 15:58:00',\n",
       "                          '14/05/2025 15:59:00', '14/05/2025 16:00:00', '14/05/2025 16:01:00',\n",
       "                          '14/05/2025 16:02:00', '14/05/2025 16:03:00', '14/05/2025 16:04:00',\n",
       "                          '14/05/2025 16:05:00', '14/05/2025 16:06:00', '14/05/2025 16:07:00'],\n",
       "                         dtype=object),\n",
       "              'y': array(['', 0.2471208224187671, 0.24760251779952228, 0.2477081079699895,\n",
       "                          0.24772033299739457, 0.24788563115977588, 0.24703799284951,\n",
       "                          0.24715142949261415, 0.24761078603640557, 0.24704019990604148,\n",
       "                          0.2474120272959812, 0.24724871308133278, 0.24748896716981006,\n",
       "                          0.2473929148263458, 0.24752569741097952, 0.24740552699183282,\n",
       "                          0.247805684075231, 0.24714429628313447, 0.24727284309933056,\n",
       "                          0.24736345053443623, 0.24747357238223056, 0.24762934248258497,\n",
       "                          0.24736239092175547, 0.24775062785996524, 0.24742613563688945,\n",
       "                          0.2469959932186457, 0.24704323118956886, 0.24709247252115213,\n",
       "                          0.24749162293588284, 0.24736276897355944, 0.2475084606684917,\n",
       "                          0.24721035875556294, 0.2471043625144564, 0.24790956360853744,\n",
       "                          0.24719690696198066, 0.24777680175369224, 0.247184602069891,\n",
       "                          0.247321328623501, 0.24778847518904698, 0.2471332731693805,\n",
       "                          0.24740529118247379, 0.24743446148283138, 0.24795302626180296,\n",
       "                          0.24720022721688106, 0.2470580898470389, 0.24733733772465058,\n",
       "                          0.24699790256147863, 0.24744927277976872, 0.24746220075486958,\n",
       "                          0.24716968706306788, 0.2473945711980171, 0.24711761478861297,\n",
       "                          0.24739576864611265, 0.24781280987282445, 0.24747587048816638,\n",
       "                          0.24702370884583782, 0.24775111946383352, 0.2472401765938513,\n",
       "                          0.24751608889528423, 0.24700326037415166, 0.24782490718814137,\n",
       "                          0.24707359442993346, 0.24784756653259749, 0.24779824327854139,\n",
       "                          0.24705981095517496, 0.2472208657885073, 0.24750664858639643,\n",
       "                          0.24786439312561925, 0.2471044828586611, 0.24795676955249418,\n",
       "                          0.24768472906324526, 0.2471592174838063, 0.24777803837137094,\n",
       "                          0.24703616028182043, 0.24753161685011876, 0.24755197876969148,\n",
       "                          0.2476421712199788, 0.24773630801197574, 0.24760389716811976,\n",
       "                          0.24705571867156326, 0.2478983365029012, 0.2476400529444121,\n",
       "                          0.2477084381987801, 0.24720874946426274, 0.24792114066352425,\n",
       "                          0.24738842934558727, 0.24691126256920484, 0.24778052070236756,\n",
       "                          0.2476696339590821, 0.247772025881271, 0.24785862492601365,\n",
       "                          0.24736018474619975, 0.2476127554226871, 0.2472784765818867,\n",
       "                          0.2474573235219406, 0.2474603856958548, 0.24700103385626856,\n",
       "                          0.24737788252800963, 0.0], dtype=object)}],\n",
       "    'layout': {'template': '...',\n",
       "               'title': {'text': 'Eficiência do ciclo'},\n",
       "               'xaxis': {'range': [0, 99]},\n",
       "               'yaxis': {'range': [0.24, 0.25]}}\n",
       "})"
      ]
     },
     "execution_count": 16,
     "metadata": {},
     "output_type": "execute_result"
    }
   ],
   "source": [
    "# Criando um dashboard simples\n",
    "import plotly.graph_objects as go\n",
    "import plotly.express as px\n",
    "\n",
    "#  Create traces\n",
    "fig = go.Figure()\n",
    "# Plotando\n",
    "fig.update_layout(title='Eficiência do ciclo',xaxis_range=[0,99], yaxis_range=[0.24,0.25])\n",
    "# Ponto de operação atual\n",
    "fig.add_trace(go.Scatter(x=dados_rend['Time'],y=dados_rend['Rendimento'],customdata=dados['P3'],\n",
    "                         mode='markers',marker=dict(size=12,color='rgba(255, 0, 0, 0.5)',line=dict(width=2,\n",
    "                         color='rgba(255, 0, 0, 0.5)'),symbol='diamond'),\n",
    "                         hoverinfo = 'text',\n",
    "                         hovertemplate = 'Rendimento: %{y:.3f}, ' + 'P6 = ' + ' %{customdata:.3f} bar',\n",
    "                         name='Rendimento'))\n"
   ]
  },
  {
   "cell_type": "code",
   "execution_count": null,
   "metadata": {},
   "outputs": [
    {
     "ename": "SyntaxError",
     "evalue": "invalid decimal literal (1647159842.py, line 11)",
     "output_type": "error",
     "traceback": [
      "\u001b[0;36m  Cell \u001b[0;32mIn[136], line 11\u001b[0;36m\u001b[0m\n\u001b[0;31m    app.layout = html.Div(style={fontSize 28px, color blue},children=[html.H1(children='Dashboard do Ciclo Térmico'),\u001b[0m\n\u001b[0m                                           ^\u001b[0m\n\u001b[0;31mSyntaxError\u001b[0m\u001b[0;31m:\u001b[0m invalid decimal literal\n"
     ]
    }
   ],
   "source": [
    "# Gera o Dash\n",
    "\n",
    "x = .1\n",
    "fig = px.bar(dados_rend, x='Time', y='Rendimento', range_y=[0.24,0.25], color=None)\n",
    "fig.show()\n",
    "\n",
    "from dash import Dash, dcc, html\n",
    "import plotly.express as px \n",
    "app = Dash(__name__)\n",
    "fig = px.scatter(dados_rend,x = Time, y = Rendimento, range_y=[0.24,0.25], color = None)\n",
    "app.layout = html.Div(style={fontSize 28px, color blue},children=[html.H1(children='Dashboard do Ciclo Térmico'),\n",
    "html.Div(children='''\n",
    "Gráfico de eficiência térmica\n",
    "'''),\n",
    "\n",
    "dcc.Graph(id='Trend do rendimento', figure=fig)])\n",
    "\n",
    "if __name__ == '__main__'\n",
    "    app.run_server(debug=False)\n"
   ]
  }
 ],
 "metadata": {
  "kernelspec": {
   "display_name": "Python 3 (ipykernel)",
   "language": "python",
   "name": "python3"
  },
  "language_info": {
   "codemirror_mode": {
    "name": "ipython",
    "version": 3
   },
   "file_extension": ".py",
   "mimetype": "text/x-python",
   "name": "python",
   "nbconvert_exporter": "python",
   "pygments_lexer": "ipython3",
   "version": "3.10.12"
  }
 },
 "nbformat": 4,
 "nbformat_minor": 1
}
